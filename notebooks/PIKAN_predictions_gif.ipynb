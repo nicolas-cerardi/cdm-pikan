{
 "cells": [
  {
   "cell_type": "code",
   "execution_count": 57,
   "id": "f36f4bd8-6560-4e2a-ada4-8c3b7a7c32f3",
   "metadata": {},
   "outputs": [
    {
     "name": "stdout",
     "output_type": "stream",
     "text": [
      "0.4.35\n",
      "0.4.34\n",
      "gpu\n",
      "%pylab is deprecated, use %matplotlib inline and import the required libraries.\n",
      "Populating the interactive namespace from numpy and matplotlib\n"
     ]
    },
    {
     "name": "stderr",
     "output_type": "stream",
     "text": [
      "/tmp/ipykernel_48655/3514446823.py:8: DeprecationWarning: jax.lib.xla_bridge.get_backend is deprecated; use jax.extend.backend.get_backend.\n",
      "  print(xla_bridge.get_backend().platform)\n",
      "/users/ncerardi/venv/jaxkan/lib/python3.11/site-packages/IPython/core/magics/pylab.py:166: UserWarning: pylab import has clobbered these variables: ['f', 'norm', 'mod']\n",
      "`%matplotlib` prevents importing * from pylab and numpy\n",
      "  warn(\"pylab import has clobbered these variables: %s\"  % clobbered +\n"
     ]
    }
   ],
   "source": [
    "import sys\n",
    "import os\n",
    "import jax\n",
    "import jaxlib\n",
    "print(jax.__version__)\n",
    "print(jaxlib.__version__)\n",
    "from jax.lib import xla_bridge\n",
    "print(xla_bridge.get_backend().platform)\n",
    "os.chdir('../scripts/')\n",
    "import matplotlib.pyplot as plt\n",
    "import graphics as gr\n",
    "import matplotlib.colors as mcolors\n",
    "import matplotlib.cm as cm\n",
    "import matplotlib.gridspec as gridspec\n",
    "\n",
    "from jax_utils import force_1d_parallel, convert_pos_to_index, scatt_reduce\n",
    "from jaxkan.utils.PIKAN import gradf\n",
    "from jaxkan.KAN import KAN\n",
    "import jax.numpy as jnp\n",
    "from jax_data import SimDataset \n",
    "from jax import vmap\n",
    "\n",
    "import pickle as pkl\n",
    "from flax import nnx\n",
    "import optax\n",
    "import orbax.checkpoint as ocp\n",
    "%pylab inline"
   ]
  },
  {
   "cell_type": "code",
   "execution_count": 58,
   "id": "1c448a74-69dc-4f10-9b16-ccb36254611d",
   "metadata": {},
   "outputs": [],
   "source": [
    "plt.rcParams.update({'lines.linewidth': 2})\n",
    "plt.rcParams.update({'text.usetex': False})\n",
    "#plt.rcParams.update({'text.latex.preamble': r\"\\usepackage{amsmath}\\usepackage{upgreek}\"})\n",
    "plt.rcParams.update({'font.family': 'serif'})\n",
    "plt.rcParams.update({'font.size': 15})"
   ]
  },
  {
   "cell_type": "code",
   "execution_count": 59,
   "id": "22e4a0e3-06d5-4aa0-a662-e15a1dafd75d",
   "metadata": {},
   "outputs": [
    {
     "name": "stdout",
     "output_type": "stream",
     "text": [
      "[0.9, 3.0, 5.0, 7.0, 9.0, 11.0, 13.0, 15.0, 17.0, 19.0, 21.0, 23.0]\n",
      "../models/net1d_jaxKAN_seq_2-8-12-8-1_ndi64_pde2_stage11b/ ../models/net1d_jaxKAN_seq_2-8-12-8-1_ndi64_pde2_stage11b/Results_seq1DNN_0.9to23.0.pdf\n",
      "req params are  {'k': 3, 'G': 16, 'grid_e': 0.05, 'grid_range': (-0.5, 0.5)}\n"
     ]
    }
   ],
   "source": [
    "#####################\n",
    "# defining network\n",
    "#####################\n",
    "\n",
    "models = ['../models/net1d_jaxKAN_seq_2-8-12-8-1_ndi64_pde2_stage%db/'%stage for stage in range(1,12)]\n",
    "\n",
    "models_limits = [0.9]\n",
    "for mod in models:\n",
    "    with open(mod+'metadata.pkl', 'rb') as f:\n",
    "        metadata = pkl.load(f)\n",
    "    models_limits.append(metadata['a_end'])\n",
    "print(models_limits)\n",
    "\n",
    "### (2) OUTPUT NAME\n",
    "loadfilename = models[-1] #\"./run/net1d_151124_unsupervised_PDE2_logNd13epoch5090_loss3.30e-04_L4_N512_.pt\"\n",
    "outstr = loadfilename.split('/')\n",
    "outstr[-1] = 'Results_seq1DNN_'+str(models_limits[0])+'to'+str(models_limits[-1])+'.pdf'\n",
    "outstr = '/'.join(outstr)\n",
    "print(loadfilename, outstr)\n",
    "\n",
    "### MODEL ARCH, based on the last model (all arch should be the same)\n",
    "checkpointer = ocp.PyTreeCheckpointer()\n",
    "\n",
    "with open(loadfilename+'metadata.pkl', 'rb') as f:\n",
    "        metadata = pkl.load(f)\n",
    "\n",
    "modeldef = metadata['layers']\n",
    "req_params = {'k': 3, 'G':metadata['grid_size'], 'grid_e':metadata['grid_adaptivity'], 'grid_range':(-0.5, .5)}\n",
    "layer_type = 'spline'\n",
    "print(\"req params are \", req_params)\n",
    "dnet = KAN(\n",
    "    layer_dims=modeldef,\n",
    "    layer_type=layer_type,\n",
    "    required_parameters=req_params,\n",
    "    add_bias=True,\n",
    "    rngs=nnx.Rngs(2)\n",
    ")"
   ]
  },
  {
   "cell_type": "code",
   "execution_count": 60,
   "id": "7bddebf3-deaa-4bfa-bd6c-4aa640d94bbe",
   "metadata": {},
   "outputs": [],
   "source": [
    "def make_ic_from_previous(checkpointer, model, previous_model, sim_data):\n",
    "    #replace initial condition\n",
    "    init_state = nnx.state(model)\n",
    "    \n",
    "    previous_model = os.path.abspath(previous_model)\n",
    "    previous_state = checkpointer.restore(previous_model, item=init_state)\n",
    "    # Update the model with the loaded state\n",
    "    nnx.update(model, previous_state)\n",
    "    pde_qa = jnp.stack([sim_data.ic_q.squeeze(), sim_data.ic_a.squeeze()]).T\n",
    "    def z(x):\n",
    "        return model(x)\n",
    "    z0 = model(pde_qa)\n",
    "    v0 = gradf(z,1,1)(pde_qa)\n",
    "    acc0 = gradf(z,1,2)(pde_qa)\n",
    "    #do not forget to put the initial weights back in the model\n",
    "    nnx.update(model, init_state)\n",
    "\n",
    "    return z0.squeeze(), v0.squeeze(), acc0.squeeze()\n",
    "\n",
    "\n",
    "def load_model_and_outputs(net, model, amin, amax, aprevious=None, previous_model=None, size='largecustom'):\n",
    "    size = 'adaptdt_seq_custom%.2fto%.2f'%(amin, amax)\n",
    "    sim_data = SimDataset(n_data_points = 8000*8000, n_pde_a=64, \n",
    "                          key=2, size=size)\n",
    "    \n",
    "    # Initialize the checkpointer once\n",
    "    checkpointer = ocp.PyTreeCheckpointer()\n",
    "    \n",
    "    reached_origin = (previous_model is None) #True for stage 1, otherwise False\n",
    "    if not reached_origin:\n",
    "        parent = '/'.join(previous_model.split('/')[:-1])\n",
    "    parent_list = []\n",
    "    parentdata_list = [\n",
    "        {'previous_model':previous_model, 'a_start':amin, 'a_end':amax}#, 'datakey':datakey}\n",
    "        ]\n",
    "    while not reached_origin:\n",
    "        # this means that parent is not None\n",
    "        print(parent)\n",
    "        with open(parent+'/metadata.pkl', 'rb') as f:\n",
    "            parent_metadata = pkl.load(f)\n",
    "        parent_list.append(parent)\n",
    "        parentdata_list.append(parent_metadata)\n",
    "        reached_origin = (parent_metadata['previous_model'] is None)\n",
    "        if parent_metadata['previous_model'] is not None: #then we can add it to the list\n",
    "            print('previous is', parent_metadata['previous_model'])\n",
    "            parent = '../models/' + parent_metadata['previous_model'].split('/')[-2]\n",
    "            parentdata_list[-1]['previous_model'] = '../models/' + '/'.join(parent_metadata['previous_model'].split('/')[-2:])\n",
    "            print(parent)\n",
    "\n",
    "    print('Parent models:', parent_list)\n",
    "\n",
    "    # IC initialization. Step 2 : load and add up all previous displacements\n",
    "    sum_previous_z0 = jnp.zeros_like(sim_data.z0.squeeze())\n",
    "    for stage in range(len(parentdata_list)-1):\n",
    "        # In the first stage, we need to load the true z0\n",
    "        if stage == 0: #then z0 is the zeldovich approx\n",
    "            size = 'adaptdt_seq_custom%.2fto%.2f'%(parentdata_list[-1-stage]['a_start'], parentdata_list[-1-stage]['a_end'])\n",
    "            sim_data = SimDataset(n_data_points = 8000*8000, n_pde_a=64, \n",
    "                                key=parentdata_list[-1-stage]['datakey'], size=size)\n",
    "            sum_previous_z0 += sim_data.z0.squeeze()\n",
    "        size = 'adaptdt_seq_custom%.2fto%.2f'%(parentdata_list[-1-stage-1]['a_start'], parentdata_list[-1-stage-1]['a_end'])\n",
    "        sim_data = SimDataset(n_data_points = 8000*8000, n_pde_a=64, \n",
    "                                key=parentdata_list[-1-stage]['datakey'], size=size)\n",
    "        # We also need to fetch the initial conditions from the previous model\n",
    "        z0_ext, v0_ext, acc0_ext = make_ic_from_previous(checkpointer, net, parentdata_list[-1-stage-1]['previous_model'], sim_data)\n",
    "        print('loaded model %s at time %.2f'%(parentdata_list[-1-stage-1]['previous_model'],parentdata_list[-1-stage-1]['a_start']))\n",
    "        sum_previous_z0 += z0_ext.squeeze()\n",
    "\n",
    "    if previous_model is not None:\n",
    "        size = 'adaptdt_seq_custom%.2fto%.2f'%(amin, amax)\n",
    "        sim_data = SimDataset(n_data_points = 8000*8000, n_pde_a=64, \n",
    "                              key=2, size=size, z0_ext=sum_previous_z0, v0_ext=v0_ext, acc0_ext=acc0_ext)\n",
    "    skip_t = 1\n",
    "    final_t = sim_data.a.size//skip_t * skip_t\n",
    "    \n",
    "    init_state = nnx.state(net)\n",
    "    model = os.path.abspath(model)\n",
    "    opt_state = checkpointer.restore(model, item=init_state)\n",
    "    # Update the model with the loaded state\n",
    "    nnx.update(net, opt_state)\n",
    "\n",
    "    if aprevious is None:\n",
    "        i_a = [0] + [j for j in range(10, 161, 50)]\n",
    "    else:\n",
    "        i_a = [j for j in range(0, 151, 50)]\n",
    "    real_a = jnp.array([sim_data.a[i] for i in i_a])\n",
    "    i_q = sim_data.q[::8]\n",
    "    i_dx0 = sim_data.dx0[::8]\n",
    "\n",
    "    q_for_net, a_for_net = jnp.meshgrid(i_q,real_a)\n",
    "    dx0_for_net, _ = jnp.meshgrid(i_dx0,real_a)\n",
    "    net_shape = q_for_net.shape\n",
    "    q_for_net = q_for_net.reshape(-1,1)\n",
    "    dx0_for_net = dx0_for_net.reshape(-1,1)\n",
    "    a_for_net = a_for_net.reshape(-1,1)\n",
    "\n",
    "    real_a = jnp.array([sim_data.a[i] for i in i_a])\n",
    "    pde_qa = jnp.stack([q_for_net.squeeze(), a_for_net.squeeze()]).T\n",
    "    \n",
    "    def z(x):\n",
    "        return dnet(x)\n",
    "\n",
    "    zpde = dnet(pde_qa)\n",
    "    zpde_t = gradf(z,1,1)(pde_qa)\n",
    "    zpde_tt = gradf(z,1,2)(pde_qa)\n",
    "\n",
    "    zpde  = zpde.reshape(len(i_a),len(i_q),1)\n",
    "    zpde_t  = zpde_t.reshape(len(i_a),len(i_q),1)\n",
    "    zpde_tt  = zpde_tt.reshape(len(i_a),len(i_q),1)\n",
    "    \n",
    "    x, y = sim_data.x['all'], sim_data.y['all']\n",
    "    y = y.reshape(len(i_a), sim_data.q.size ,3)\n",
    "    x = x.reshape(len(i_a), sim_data.q.size ,3)\n",
    "    print(y.shape, sim_data.data.shape)\n",
    "    ztrue = sim_data.data[:,1,::8] #y[i_a,::8,0]\n",
    "    dzdt = sim_data.data[:,2,::8] #jnp.gradient(y[:,:,0],sim_data.a[1]-sim_data.a[0],axis=0)[i_a,::8]\n",
    "    dvdt = sim_data.data[:,3,::8] #jnp.gradient(y[:,:,1],sim_data.a[1]-sim_data.a[0],axis=0)[i_a,::8]\n",
    "        \n",
    "    return i_q, jnp.array([sim_data.a[i] for i in i_a]), i_dx0, zpde, zpde_t, zpde_tt, ztrue, dzdt, dvdt"
   ]
  },
  {
   "cell_type": "code",
   "execution_count": 61,
   "id": "d117153a-cec3-4c1f-b08c-df20cf0da157",
   "metadata": {
    "scrolled": true
   },
   "outputs": [
    {
     "name": "stdout",
     "output_type": "stream",
     "text": [
      "MODEL ../models/net1d_jaxKAN_seq_2-8-12-8-1_ndi64_pde2_stage1b/\n",
      "['0.90', '3.00']\n",
      "['0.9', '1', '1.50', '2', '2.50']\n",
      "dt 0.0005106237746878296\n",
      " -- Dataset prepared -- \n",
      "a is from 0.90 to 3.00\n",
      "ic, bc, data and pde shapes are: (8192, 1) (422, 1) (8192, 1)\n",
      "Parent models: []\n"
     ]
    },
    {
     "name": "stderr",
     "output_type": "stream",
     "text": [
      "/users/ncerardi/venv/jaxkan/lib/python3.11/site-packages/orbax/checkpoint/_src/serialization/type_handlers.py:1175: UserWarning: Couldn't find sharding info under RestoreArgs. Populating sharding info from sharding file. Please note restoration time will be slightly increased due to reading from file instead of directly from RestoreArgs. Note also that this option is unsafe when restoring on a different topology than the checkpoint was saved with.\n",
      "  warnings.warn(\n"
     ]
    },
    {
     "name": "stdout",
     "output_type": "stream",
     "text": [
      "(5, 8192, 3) (5, 6, 8192)\n",
      "MODEL ../models/net1d_jaxKAN_seq_2-8-12-8-1_ndi64_pde2_stage2b/\n",
      "['3.00', '5.00']\n",
      "['3', '3.50', '4', '4.50']\n",
      "dt 0.0005106237746878296\n",
      " -- Dataset prepared -- \n",
      "a is from 3.00 to 5.00\n",
      "ic, bc, data and pde shapes are: (8192, 1) (402, 1) (8192, 1)\n",
      "../models/net1d_jaxKAN_seq_2-8-12-8-1_ndi64_pde2_stage1b\n",
      "Parent models: ['../models/net1d_jaxKAN_seq_2-8-12-8-1_ndi64_pde2_stage1b']\n",
      "['0.90', '3.00']\n",
      "['0.9', '1', '1.50', '2', '2.50']\n",
      "dt 0.0005106237746878296\n",
      " -- Dataset prepared -- \n",
      "a is from 0.90 to 3.00\n",
      "ic, bc, data and pde shapes are: (8192, 1) (422, 1) (8192, 1)\n",
      "['3.00', '5.00']\n",
      "['3', '3.50', '4', '4.50']\n",
      "dt 0.0005106237746878296\n",
      " -- Dataset prepared -- \n",
      "a is from 3.00 to 5.00\n",
      "ic, bc, data and pde shapes are: (8192, 1) (402, 1) (8192, 1)\n"
     ]
    },
    {
     "name": "stderr",
     "output_type": "stream",
     "text": [
      "/users/ncerardi/venv/jaxkan/lib/python3.11/site-packages/orbax/checkpoint/_src/serialization/type_handlers.py:1175: UserWarning: Couldn't find sharding info under RestoreArgs. Populating sharding info from sharding file. Please note restoration time will be slightly increased due to reading from file instead of directly from RestoreArgs. Note also that this option is unsafe when restoring on a different topology than the checkpoint was saved with.\n",
      "  warnings.warn(\n"
     ]
    },
    {
     "name": "stdout",
     "output_type": "stream",
     "text": [
      "loaded model ../models/net1d_jaxKAN_seq_2-8-12-8-1_ndi64_pde2_stage1b/best at time 3.00\n",
      "['3.00', '5.00']\n",
      "['3', '3.50', '4', '4.50']\n",
      "dt 0.0005106237746878296\n",
      " -- Dataset prepared -- \n",
      "a is from 3.00 to 5.00\n",
      "ic, bc, data and pde shapes are: (8192, 1) (402, 1) (8192, 1)\n"
     ]
    },
    {
     "name": "stderr",
     "output_type": "stream",
     "text": [
      "/users/ncerardi/venv/jaxkan/lib/python3.11/site-packages/orbax/checkpoint/_src/serialization/type_handlers.py:1175: UserWarning: Couldn't find sharding info under RestoreArgs. Populating sharding info from sharding file. Please note restoration time will be slightly increased due to reading from file instead of directly from RestoreArgs. Note also that this option is unsafe when restoring on a different topology than the checkpoint was saved with.\n",
      "  warnings.warn(\n"
     ]
    },
    {
     "name": "stdout",
     "output_type": "stream",
     "text": [
      "(4, 8192, 3) (4, 6, 8192)\n",
      "MODEL ../models/net1d_jaxKAN_seq_2-8-12-8-1_ndi64_pde2_stage3b/\n",
      "['5.00', '7.00']\n",
      "['5', '5.50', '6', '6.50']\n",
      "dt 0.0005106237746878296\n",
      " -- Dataset prepared -- \n",
      "a is from 5.00 to 7.00\n",
      "ic, bc, data and pde shapes are: (8192, 1) (402, 1) (8192, 1)\n",
      "../models/net1d_jaxKAN_seq_2-8-12-8-1_ndi64_pde2_stage2b\n",
      "previous is ./run/net1d_jaxKAN_seq_2-8-12-8-1_ndi64_pde2_stage1b/best\n",
      "../models/net1d_jaxKAN_seq_2-8-12-8-1_ndi64_pde2_stage1b\n",
      "../models/net1d_jaxKAN_seq_2-8-12-8-1_ndi64_pde2_stage1b\n",
      "Parent models: ['../models/net1d_jaxKAN_seq_2-8-12-8-1_ndi64_pde2_stage2b', '../models/net1d_jaxKAN_seq_2-8-12-8-1_ndi64_pde2_stage1b']\n",
      "['0.90', '3.00']\n",
      "['0.9', '1', '1.50', '2', '2.50']\n",
      "dt 0.0005106237746878296\n",
      " -- Dataset prepared -- \n",
      "a is from 0.90 to 3.00\n",
      "ic, bc, data and pde shapes are: (8192, 1) (422, 1) (8192, 1)\n",
      "['3.00', '5.00']\n",
      "['3', '3.50', '4', '4.50']\n",
      "dt 0.0005106237746878296\n",
      " -- Dataset prepared -- \n",
      "a is from 3.00 to 5.00\n",
      "ic, bc, data and pde shapes are: (8192, 1) (402, 1) (8192, 1)\n"
     ]
    },
    {
     "name": "stderr",
     "output_type": "stream",
     "text": [
      "/users/ncerardi/venv/jaxkan/lib/python3.11/site-packages/orbax/checkpoint/_src/serialization/type_handlers.py:1175: UserWarning: Couldn't find sharding info under RestoreArgs. Populating sharding info from sharding file. Please note restoration time will be slightly increased due to reading from file instead of directly from RestoreArgs. Note also that this option is unsafe when restoring on a different topology than the checkpoint was saved with.\n",
      "  warnings.warn(\n"
     ]
    },
    {
     "name": "stdout",
     "output_type": "stream",
     "text": [
      "loaded model ../models/net1d_jaxKAN_seq_2-8-12-8-1_ndi64_pde2_stage1b/best at time 3.00\n",
      "['5.00', '7.00']\n",
      "['5', '5.50', '6', '6.50']\n",
      "dt 0.0005106237746878296\n",
      " -- Dataset prepared -- \n",
      "a is from 5.00 to 7.00\n",
      "ic, bc, data and pde shapes are: (8192, 1) (402, 1) (8192, 1)\n"
     ]
    },
    {
     "name": "stderr",
     "output_type": "stream",
     "text": [
      "/users/ncerardi/venv/jaxkan/lib/python3.11/site-packages/orbax/checkpoint/_src/serialization/type_handlers.py:1175: UserWarning: Couldn't find sharding info under RestoreArgs. Populating sharding info from sharding file. Please note restoration time will be slightly increased due to reading from file instead of directly from RestoreArgs. Note also that this option is unsafe when restoring on a different topology than the checkpoint was saved with.\n",
      "  warnings.warn(\n"
     ]
    },
    {
     "name": "stdout",
     "output_type": "stream",
     "text": [
      "loaded model ../models/net1d_jaxKAN_seq_2-8-12-8-1_ndi64_pde2_stage2b/best at time 5.00\n",
      "['5.00', '7.00']\n",
      "['5', '5.50', '6', '6.50']\n",
      "dt 0.0005106237746878296\n",
      " -- Dataset prepared -- \n",
      "a is from 5.00 to 7.00\n",
      "ic, bc, data and pde shapes are: (8192, 1) (402, 1) (8192, 1)\n"
     ]
    },
    {
     "name": "stderr",
     "output_type": "stream",
     "text": [
      "/users/ncerardi/venv/jaxkan/lib/python3.11/site-packages/orbax/checkpoint/_src/serialization/type_handlers.py:1175: UserWarning: Couldn't find sharding info under RestoreArgs. Populating sharding info from sharding file. Please note restoration time will be slightly increased due to reading from file instead of directly from RestoreArgs. Note also that this option is unsafe when restoring on a different topology than the checkpoint was saved with.\n",
      "  warnings.warn(\n"
     ]
    },
    {
     "name": "stdout",
     "output_type": "stream",
     "text": [
      "(4, 8192, 3) (4, 6, 8192)\n",
      "MODEL ../models/net1d_jaxKAN_seq_2-8-12-8-1_ndi64_pde2_stage4b/\n",
      "['7.00', '9.00']\n",
      "['7', '7.50', '8', '8.50']\n",
      "dt 0.0005106237746878296\n",
      " -- Dataset prepared -- \n",
      "a is from 7.00 to 9.00\n",
      "ic, bc, data and pde shapes are: (8192, 1) (402, 1) (8192, 1)\n",
      "../models/net1d_jaxKAN_seq_2-8-12-8-1_ndi64_pde2_stage3b\n",
      "previous is ./run/net1d_jaxKAN_seq_2-8-12-8-1_ndi64_pde2_stage2b/best\n",
      "../models/net1d_jaxKAN_seq_2-8-12-8-1_ndi64_pde2_stage2b\n",
      "../models/net1d_jaxKAN_seq_2-8-12-8-1_ndi64_pde2_stage2b\n",
      "previous is ./run/net1d_jaxKAN_seq_2-8-12-8-1_ndi64_pde2_stage1b/best\n",
      "../models/net1d_jaxKAN_seq_2-8-12-8-1_ndi64_pde2_stage1b\n",
      "../models/net1d_jaxKAN_seq_2-8-12-8-1_ndi64_pde2_stage1b\n",
      "Parent models: ['../models/net1d_jaxKAN_seq_2-8-12-8-1_ndi64_pde2_stage3b', '../models/net1d_jaxKAN_seq_2-8-12-8-1_ndi64_pde2_stage2b', '../models/net1d_jaxKAN_seq_2-8-12-8-1_ndi64_pde2_stage1b']\n",
      "['0.90', '3.00']\n",
      "['0.9', '1', '1.50', '2', '2.50']\n",
      "dt 0.0005106237746878296\n",
      " -- Dataset prepared -- \n",
      "a is from 0.90 to 3.00\n",
      "ic, bc, data and pde shapes are: (8192, 1) (422, 1) (8192, 1)\n",
      "['3.00', '5.00']\n",
      "['3', '3.50', '4', '4.50']\n",
      "dt 0.0005106237746878296\n",
      " -- Dataset prepared -- \n",
      "a is from 3.00 to 5.00\n",
      "ic, bc, data and pde shapes are: (8192, 1) (402, 1) (8192, 1)\n"
     ]
    },
    {
     "name": "stderr",
     "output_type": "stream",
     "text": [
      "/users/ncerardi/venv/jaxkan/lib/python3.11/site-packages/orbax/checkpoint/_src/serialization/type_handlers.py:1175: UserWarning: Couldn't find sharding info under RestoreArgs. Populating sharding info from sharding file. Please note restoration time will be slightly increased due to reading from file instead of directly from RestoreArgs. Note also that this option is unsafe when restoring on a different topology than the checkpoint was saved with.\n",
      "  warnings.warn(\n"
     ]
    },
    {
     "name": "stdout",
     "output_type": "stream",
     "text": [
      "loaded model ../models/net1d_jaxKAN_seq_2-8-12-8-1_ndi64_pde2_stage1b/best at time 3.00\n",
      "['5.00', '7.00']\n",
      "['5', '5.50', '6', '6.50']\n",
      "dt 0.0005106237746878296\n",
      " -- Dataset prepared -- \n",
      "a is from 5.00 to 7.00\n",
      "ic, bc, data and pde shapes are: (8192, 1) (402, 1) (8192, 1)\n"
     ]
    },
    {
     "name": "stderr",
     "output_type": "stream",
     "text": [
      "/users/ncerardi/venv/jaxkan/lib/python3.11/site-packages/orbax/checkpoint/_src/serialization/type_handlers.py:1175: UserWarning: Couldn't find sharding info under RestoreArgs. Populating sharding info from sharding file. Please note restoration time will be slightly increased due to reading from file instead of directly from RestoreArgs. Note also that this option is unsafe when restoring on a different topology than the checkpoint was saved with.\n",
      "  warnings.warn(\n"
     ]
    },
    {
     "name": "stdout",
     "output_type": "stream",
     "text": [
      "loaded model ../models/net1d_jaxKAN_seq_2-8-12-8-1_ndi64_pde2_stage2b/best at time 5.00\n",
      "['7.00', '9.00']\n",
      "['7', '7.50', '8', '8.50']\n",
      "dt 0.0005106237746878296\n",
      " -- Dataset prepared -- \n",
      "a is from 7.00 to 9.00\n",
      "ic, bc, data and pde shapes are: (8192, 1) (402, 1) (8192, 1)\n"
     ]
    },
    {
     "name": "stderr",
     "output_type": "stream",
     "text": [
      "/users/ncerardi/venv/jaxkan/lib/python3.11/site-packages/orbax/checkpoint/_src/serialization/type_handlers.py:1175: UserWarning: Couldn't find sharding info under RestoreArgs. Populating sharding info from sharding file. Please note restoration time will be slightly increased due to reading from file instead of directly from RestoreArgs. Note also that this option is unsafe when restoring on a different topology than the checkpoint was saved with.\n",
      "  warnings.warn(\n"
     ]
    },
    {
     "name": "stdout",
     "output_type": "stream",
     "text": [
      "loaded model ../models/net1d_jaxKAN_seq_2-8-12-8-1_ndi64_pde2_stage3b/best at time 7.00\n",
      "['7.00', '9.00']\n",
      "['7', '7.50', '8', '8.50']\n",
      "dt 0.0005106237746878296\n",
      " -- Dataset prepared -- \n",
      "a is from 7.00 to 9.00\n",
      "ic, bc, data and pde shapes are: (8192, 1) (402, 1) (8192, 1)\n"
     ]
    },
    {
     "name": "stderr",
     "output_type": "stream",
     "text": [
      "/users/ncerardi/venv/jaxkan/lib/python3.11/site-packages/orbax/checkpoint/_src/serialization/type_handlers.py:1175: UserWarning: Couldn't find sharding info under RestoreArgs. Populating sharding info from sharding file. Please note restoration time will be slightly increased due to reading from file instead of directly from RestoreArgs. Note also that this option is unsafe when restoring on a different topology than the checkpoint was saved with.\n",
      "  warnings.warn(\n"
     ]
    },
    {
     "name": "stdout",
     "output_type": "stream",
     "text": [
      "(4, 8192, 3) (4, 6, 8192)\n",
      "MODEL ../models/net1d_jaxKAN_seq_2-8-12-8-1_ndi64_pde2_stage5b/\n",
      "['9.00', '11.00']\n",
      "['9', '9.50', '10', '10.50']\n",
      "dt 0.0005106237746878296\n",
      " -- Dataset prepared -- \n",
      "a is from 9.00 to 11.00\n",
      "ic, bc, data and pde shapes are: (8192, 1) (402, 1) (8192, 1)\n",
      "../models/net1d_jaxKAN_seq_2-8-12-8-1_ndi64_pde2_stage4b\n",
      "previous is ./run/net1d_jaxKAN_seq_2-8-12-8-1_ndi64_pde2_stage3b/best\n",
      "../models/net1d_jaxKAN_seq_2-8-12-8-1_ndi64_pde2_stage3b\n",
      "../models/net1d_jaxKAN_seq_2-8-12-8-1_ndi64_pde2_stage3b\n",
      "previous is ./run/net1d_jaxKAN_seq_2-8-12-8-1_ndi64_pde2_stage2b/best\n",
      "../models/net1d_jaxKAN_seq_2-8-12-8-1_ndi64_pde2_stage2b\n",
      "../models/net1d_jaxKAN_seq_2-8-12-8-1_ndi64_pde2_stage2b\n",
      "previous is ./run/net1d_jaxKAN_seq_2-8-12-8-1_ndi64_pde2_stage1b/best\n",
      "../models/net1d_jaxKAN_seq_2-8-12-8-1_ndi64_pde2_stage1b\n",
      "../models/net1d_jaxKAN_seq_2-8-12-8-1_ndi64_pde2_stage1b\n",
      "Parent models: ['../models/net1d_jaxKAN_seq_2-8-12-8-1_ndi64_pde2_stage4b', '../models/net1d_jaxKAN_seq_2-8-12-8-1_ndi64_pde2_stage3b', '../models/net1d_jaxKAN_seq_2-8-12-8-1_ndi64_pde2_stage2b', '../models/net1d_jaxKAN_seq_2-8-12-8-1_ndi64_pde2_stage1b']\n",
      "['0.90', '3.00']\n",
      "['0.9', '1', '1.50', '2', '2.50']\n",
      "dt 0.0005106237746878296\n",
      " -- Dataset prepared -- \n",
      "a is from 0.90 to 3.00\n",
      "ic, bc, data and pde shapes are: (8192, 1) (422, 1) (8192, 1)\n",
      "['3.00', '5.00']\n",
      "['3', '3.50', '4', '4.50']\n",
      "dt 0.0005106237746878296\n",
      " -- Dataset prepared -- \n",
      "a is from 3.00 to 5.00\n",
      "ic, bc, data and pde shapes are: (8192, 1) (402, 1) (8192, 1)\n"
     ]
    },
    {
     "name": "stderr",
     "output_type": "stream",
     "text": [
      "/users/ncerardi/venv/jaxkan/lib/python3.11/site-packages/orbax/checkpoint/_src/serialization/type_handlers.py:1175: UserWarning: Couldn't find sharding info under RestoreArgs. Populating sharding info from sharding file. Please note restoration time will be slightly increased due to reading from file instead of directly from RestoreArgs. Note also that this option is unsafe when restoring on a different topology than the checkpoint was saved with.\n",
      "  warnings.warn(\n"
     ]
    },
    {
     "name": "stdout",
     "output_type": "stream",
     "text": [
      "loaded model ../models/net1d_jaxKAN_seq_2-8-12-8-1_ndi64_pde2_stage1b/best at time 3.00\n",
      "['5.00', '7.00']\n",
      "['5', '5.50', '6', '6.50']\n",
      "dt 0.0005106237746878296\n",
      " -- Dataset prepared -- \n",
      "a is from 5.00 to 7.00\n",
      "ic, bc, data and pde shapes are: (8192, 1) (402, 1) (8192, 1)\n"
     ]
    },
    {
     "name": "stderr",
     "output_type": "stream",
     "text": [
      "/users/ncerardi/venv/jaxkan/lib/python3.11/site-packages/orbax/checkpoint/_src/serialization/type_handlers.py:1175: UserWarning: Couldn't find sharding info under RestoreArgs. Populating sharding info from sharding file. Please note restoration time will be slightly increased due to reading from file instead of directly from RestoreArgs. Note also that this option is unsafe when restoring on a different topology than the checkpoint was saved with.\n",
      "  warnings.warn(\n"
     ]
    },
    {
     "name": "stdout",
     "output_type": "stream",
     "text": [
      "loaded model ../models/net1d_jaxKAN_seq_2-8-12-8-1_ndi64_pde2_stage2b/best at time 5.00\n",
      "['7.00', '9.00']\n",
      "['7', '7.50', '8', '8.50']\n",
      "dt 0.0005106237746878296\n",
      " -- Dataset prepared -- \n",
      "a is from 7.00 to 9.00\n",
      "ic, bc, data and pde shapes are: (8192, 1) (402, 1) (8192, 1)\n"
     ]
    },
    {
     "name": "stderr",
     "output_type": "stream",
     "text": [
      "/users/ncerardi/venv/jaxkan/lib/python3.11/site-packages/orbax/checkpoint/_src/serialization/type_handlers.py:1175: UserWarning: Couldn't find sharding info under RestoreArgs. Populating sharding info from sharding file. Please note restoration time will be slightly increased due to reading from file instead of directly from RestoreArgs. Note also that this option is unsafe when restoring on a different topology than the checkpoint was saved with.\n",
      "  warnings.warn(\n"
     ]
    },
    {
     "name": "stdout",
     "output_type": "stream",
     "text": [
      "loaded model ../models/net1d_jaxKAN_seq_2-8-12-8-1_ndi64_pde2_stage3b/best at time 7.00\n",
      "['9.00', '11.00']\n",
      "['9', '9.50', '10', '10.50']\n",
      "dt 0.0005106237746878296\n",
      " -- Dataset prepared -- \n",
      "a is from 9.00 to 11.00\n",
      "ic, bc, data and pde shapes are: (8192, 1) (402, 1) (8192, 1)\n"
     ]
    },
    {
     "name": "stderr",
     "output_type": "stream",
     "text": [
      "/users/ncerardi/venv/jaxkan/lib/python3.11/site-packages/orbax/checkpoint/_src/serialization/type_handlers.py:1175: UserWarning: Couldn't find sharding info under RestoreArgs. Populating sharding info from sharding file. Please note restoration time will be slightly increased due to reading from file instead of directly from RestoreArgs. Note also that this option is unsafe when restoring on a different topology than the checkpoint was saved with.\n",
      "  warnings.warn(\n"
     ]
    },
    {
     "name": "stdout",
     "output_type": "stream",
     "text": [
      "loaded model ../models/net1d_jaxKAN_seq_2-8-12-8-1_ndi64_pde2_stage4b/best at time 9.00\n",
      "['9.00', '11.00']\n",
      "['9', '9.50', '10', '10.50']\n",
      "dt 0.0005106237746878296\n",
      " -- Dataset prepared -- \n",
      "a is from 9.00 to 11.00\n",
      "ic, bc, data and pde shapes are: (8192, 1) (402, 1) (8192, 1)\n"
     ]
    },
    {
     "name": "stderr",
     "output_type": "stream",
     "text": [
      "/users/ncerardi/venv/jaxkan/lib/python3.11/site-packages/orbax/checkpoint/_src/serialization/type_handlers.py:1175: UserWarning: Couldn't find sharding info under RestoreArgs. Populating sharding info from sharding file. Please note restoration time will be slightly increased due to reading from file instead of directly from RestoreArgs. Note also that this option is unsafe when restoring on a different topology than the checkpoint was saved with.\n",
      "  warnings.warn(\n"
     ]
    },
    {
     "name": "stdout",
     "output_type": "stream",
     "text": [
      "(4, 8192, 3) (4, 6, 8192)\n",
      "MODEL ../models/net1d_jaxKAN_seq_2-8-12-8-1_ndi64_pde2_stage6b/\n",
      "['11.00', '13.00']\n",
      "['11', '11.50', '12', '12.50']\n",
      "dt 0.0005106237746878296\n",
      " -- Dataset prepared -- \n",
      "a is from 11.00 to 13.00\n",
      "ic, bc, data and pde shapes are: (8192, 1) (402, 1) (8192, 1)\n",
      "../models/net1d_jaxKAN_seq_2-8-12-8-1_ndi64_pde2_stage5b\n",
      "previous is ./run/net1d_jaxKAN_seq_2-8-12-8-1_ndi64_pde2_stage4b/best\n",
      "../models/net1d_jaxKAN_seq_2-8-12-8-1_ndi64_pde2_stage4b\n",
      "../models/net1d_jaxKAN_seq_2-8-12-8-1_ndi64_pde2_stage4b\n",
      "previous is ./run/net1d_jaxKAN_seq_2-8-12-8-1_ndi64_pde2_stage3b/best\n",
      "../models/net1d_jaxKAN_seq_2-8-12-8-1_ndi64_pde2_stage3b\n",
      "../models/net1d_jaxKAN_seq_2-8-12-8-1_ndi64_pde2_stage3b\n",
      "previous is ./run/net1d_jaxKAN_seq_2-8-12-8-1_ndi64_pde2_stage2b/best\n",
      "../models/net1d_jaxKAN_seq_2-8-12-8-1_ndi64_pde2_stage2b\n",
      "../models/net1d_jaxKAN_seq_2-8-12-8-1_ndi64_pde2_stage2b\n",
      "previous is ./run/net1d_jaxKAN_seq_2-8-12-8-1_ndi64_pde2_stage1b/best\n",
      "../models/net1d_jaxKAN_seq_2-8-12-8-1_ndi64_pde2_stage1b\n",
      "../models/net1d_jaxKAN_seq_2-8-12-8-1_ndi64_pde2_stage1b\n",
      "Parent models: ['../models/net1d_jaxKAN_seq_2-8-12-8-1_ndi64_pde2_stage5b', '../models/net1d_jaxKAN_seq_2-8-12-8-1_ndi64_pde2_stage4b', '../models/net1d_jaxKAN_seq_2-8-12-8-1_ndi64_pde2_stage3b', '../models/net1d_jaxKAN_seq_2-8-12-8-1_ndi64_pde2_stage2b', '../models/net1d_jaxKAN_seq_2-8-12-8-1_ndi64_pde2_stage1b']\n",
      "['0.90', '3.00']\n",
      "['0.9', '1', '1.50', '2', '2.50']\n",
      "dt 0.0005106237746878296\n",
      " -- Dataset prepared -- \n",
      "a is from 0.90 to 3.00\n",
      "ic, bc, data and pde shapes are: (8192, 1) (422, 1) (8192, 1)\n",
      "['3.00', '5.00']\n",
      "['3', '3.50', '4', '4.50']\n",
      "dt 0.0005106237746878296\n",
      " -- Dataset prepared -- \n",
      "a is from 3.00 to 5.00\n",
      "ic, bc, data and pde shapes are: (8192, 1) (402, 1) (8192, 1)\n"
     ]
    },
    {
     "name": "stderr",
     "output_type": "stream",
     "text": [
      "/users/ncerardi/venv/jaxkan/lib/python3.11/site-packages/orbax/checkpoint/_src/serialization/type_handlers.py:1175: UserWarning: Couldn't find sharding info under RestoreArgs. Populating sharding info from sharding file. Please note restoration time will be slightly increased due to reading from file instead of directly from RestoreArgs. Note also that this option is unsafe when restoring on a different topology than the checkpoint was saved with.\n",
      "  warnings.warn(\n"
     ]
    },
    {
     "name": "stdout",
     "output_type": "stream",
     "text": [
      "loaded model ../models/net1d_jaxKAN_seq_2-8-12-8-1_ndi64_pde2_stage1b/best at time 3.00\n",
      "['5.00', '7.00']\n",
      "['5', '5.50', '6', '6.50']\n",
      "dt 0.0005106237746878296\n",
      " -- Dataset prepared -- \n",
      "a is from 5.00 to 7.00\n",
      "ic, bc, data and pde shapes are: (8192, 1) (402, 1) (8192, 1)\n"
     ]
    },
    {
     "name": "stderr",
     "output_type": "stream",
     "text": [
      "/users/ncerardi/venv/jaxkan/lib/python3.11/site-packages/orbax/checkpoint/_src/serialization/type_handlers.py:1175: UserWarning: Couldn't find sharding info under RestoreArgs. Populating sharding info from sharding file. Please note restoration time will be slightly increased due to reading from file instead of directly from RestoreArgs. Note also that this option is unsafe when restoring on a different topology than the checkpoint was saved with.\n",
      "  warnings.warn(\n"
     ]
    },
    {
     "name": "stdout",
     "output_type": "stream",
     "text": [
      "loaded model ../models/net1d_jaxKAN_seq_2-8-12-8-1_ndi64_pde2_stage2b/best at time 5.00\n",
      "['7.00', '9.00']\n",
      "['7', '7.50', '8', '8.50']\n",
      "dt 0.0005106237746878296\n",
      " -- Dataset prepared -- \n",
      "a is from 7.00 to 9.00\n",
      "ic, bc, data and pde shapes are: (8192, 1) (402, 1) (8192, 1)\n"
     ]
    },
    {
     "name": "stderr",
     "output_type": "stream",
     "text": [
      "/users/ncerardi/venv/jaxkan/lib/python3.11/site-packages/orbax/checkpoint/_src/serialization/type_handlers.py:1175: UserWarning: Couldn't find sharding info under RestoreArgs. Populating sharding info from sharding file. Please note restoration time will be slightly increased due to reading from file instead of directly from RestoreArgs. Note also that this option is unsafe when restoring on a different topology than the checkpoint was saved with.\n",
      "  warnings.warn(\n"
     ]
    },
    {
     "name": "stdout",
     "output_type": "stream",
     "text": [
      "loaded model ../models/net1d_jaxKAN_seq_2-8-12-8-1_ndi64_pde2_stage3b/best at time 7.00\n",
      "['9.00', '11.00']\n",
      "['9', '9.50', '10', '10.50']\n",
      "dt 0.0005106237746878296\n",
      " -- Dataset prepared -- \n",
      "a is from 9.00 to 11.00\n",
      "ic, bc, data and pde shapes are: (8192, 1) (402, 1) (8192, 1)\n"
     ]
    },
    {
     "name": "stderr",
     "output_type": "stream",
     "text": [
      "/users/ncerardi/venv/jaxkan/lib/python3.11/site-packages/orbax/checkpoint/_src/serialization/type_handlers.py:1175: UserWarning: Couldn't find sharding info under RestoreArgs. Populating sharding info from sharding file. Please note restoration time will be slightly increased due to reading from file instead of directly from RestoreArgs. Note also that this option is unsafe when restoring on a different topology than the checkpoint was saved with.\n",
      "  warnings.warn(\n"
     ]
    },
    {
     "name": "stdout",
     "output_type": "stream",
     "text": [
      "loaded model ../models/net1d_jaxKAN_seq_2-8-12-8-1_ndi64_pde2_stage4b/best at time 9.00\n",
      "['11.00', '13.00']\n",
      "['11', '11.50', '12', '12.50']\n",
      "dt 0.0005106237746878296\n",
      " -- Dataset prepared -- \n",
      "a is from 11.00 to 13.00\n",
      "ic, bc, data and pde shapes are: (8192, 1) (402, 1) (8192, 1)\n"
     ]
    },
    {
     "name": "stderr",
     "output_type": "stream",
     "text": [
      "/users/ncerardi/venv/jaxkan/lib/python3.11/site-packages/orbax/checkpoint/_src/serialization/type_handlers.py:1175: UserWarning: Couldn't find sharding info under RestoreArgs. Populating sharding info from sharding file. Please note restoration time will be slightly increased due to reading from file instead of directly from RestoreArgs. Note also that this option is unsafe when restoring on a different topology than the checkpoint was saved with.\n",
      "  warnings.warn(\n"
     ]
    },
    {
     "name": "stdout",
     "output_type": "stream",
     "text": [
      "loaded model ../models/net1d_jaxKAN_seq_2-8-12-8-1_ndi64_pde2_stage5b/best at time 11.00\n",
      "['11.00', '13.00']\n",
      "['11', '11.50', '12', '12.50']\n",
      "dt 0.0005106237746878296\n",
      " -- Dataset prepared -- \n",
      "a is from 11.00 to 13.00\n",
      "ic, bc, data and pde shapes are: (8192, 1) (402, 1) (8192, 1)\n"
     ]
    },
    {
     "name": "stderr",
     "output_type": "stream",
     "text": [
      "/users/ncerardi/venv/jaxkan/lib/python3.11/site-packages/orbax/checkpoint/_src/serialization/type_handlers.py:1175: UserWarning: Couldn't find sharding info under RestoreArgs. Populating sharding info from sharding file. Please note restoration time will be slightly increased due to reading from file instead of directly from RestoreArgs. Note also that this option is unsafe when restoring on a different topology than the checkpoint was saved with.\n",
      "  warnings.warn(\n"
     ]
    },
    {
     "name": "stdout",
     "output_type": "stream",
     "text": [
      "(4, 8192, 3) (4, 6, 8192)\n",
      "MODEL ../models/net1d_jaxKAN_seq_2-8-12-8-1_ndi64_pde2_stage7b/\n",
      "['13.00', '15.00']\n",
      "['13', '13.50', '14', '14.50']\n",
      "dt 0.0005106237746878296\n",
      " -- Dataset prepared -- \n",
      "a is from 13.00 to 15.00\n",
      "ic, bc, data and pde shapes are: (8192, 1) (402, 1) (8192, 1)\n",
      "../models/net1d_jaxKAN_seq_2-8-12-8-1_ndi64_pde2_stage6b\n",
      "previous is ./run/net1d_jaxKAN_seq_2-8-12-8-1_ndi64_pde2_stage5b/best\n",
      "../models/net1d_jaxKAN_seq_2-8-12-8-1_ndi64_pde2_stage5b\n",
      "../models/net1d_jaxKAN_seq_2-8-12-8-1_ndi64_pde2_stage5b\n",
      "previous is ./run/net1d_jaxKAN_seq_2-8-12-8-1_ndi64_pde2_stage4b/best\n",
      "../models/net1d_jaxKAN_seq_2-8-12-8-1_ndi64_pde2_stage4b\n",
      "../models/net1d_jaxKAN_seq_2-8-12-8-1_ndi64_pde2_stage4b\n",
      "previous is ./run/net1d_jaxKAN_seq_2-8-12-8-1_ndi64_pde2_stage3b/best\n",
      "../models/net1d_jaxKAN_seq_2-8-12-8-1_ndi64_pde2_stage3b\n",
      "../models/net1d_jaxKAN_seq_2-8-12-8-1_ndi64_pde2_stage3b\n",
      "previous is ./run/net1d_jaxKAN_seq_2-8-12-8-1_ndi64_pde2_stage2b/best\n",
      "../models/net1d_jaxKAN_seq_2-8-12-8-1_ndi64_pde2_stage2b\n",
      "../models/net1d_jaxKAN_seq_2-8-12-8-1_ndi64_pde2_stage2b\n",
      "previous is ./run/net1d_jaxKAN_seq_2-8-12-8-1_ndi64_pde2_stage1b/best\n",
      "../models/net1d_jaxKAN_seq_2-8-12-8-1_ndi64_pde2_stage1b\n",
      "../models/net1d_jaxKAN_seq_2-8-12-8-1_ndi64_pde2_stage1b\n",
      "Parent models: ['../models/net1d_jaxKAN_seq_2-8-12-8-1_ndi64_pde2_stage6b', '../models/net1d_jaxKAN_seq_2-8-12-8-1_ndi64_pde2_stage5b', '../models/net1d_jaxKAN_seq_2-8-12-8-1_ndi64_pde2_stage4b', '../models/net1d_jaxKAN_seq_2-8-12-8-1_ndi64_pde2_stage3b', '../models/net1d_jaxKAN_seq_2-8-12-8-1_ndi64_pde2_stage2b', '../models/net1d_jaxKAN_seq_2-8-12-8-1_ndi64_pde2_stage1b']\n",
      "['0.90', '3.00']\n",
      "['0.9', '1', '1.50', '2', '2.50']\n",
      "dt 0.0005106237746878296\n",
      " -- Dataset prepared -- \n",
      "a is from 0.90 to 3.00\n",
      "ic, bc, data and pde shapes are: (8192, 1) (422, 1) (8192, 1)\n",
      "['3.00', '5.00']\n",
      "['3', '3.50', '4', '4.50']\n",
      "dt 0.0005106237746878296\n",
      " -- Dataset prepared -- \n",
      "a is from 3.00 to 5.00\n",
      "ic, bc, data and pde shapes are: (8192, 1) (402, 1) (8192, 1)\n"
     ]
    },
    {
     "name": "stderr",
     "output_type": "stream",
     "text": [
      "/users/ncerardi/venv/jaxkan/lib/python3.11/site-packages/orbax/checkpoint/_src/serialization/type_handlers.py:1175: UserWarning: Couldn't find sharding info under RestoreArgs. Populating sharding info from sharding file. Please note restoration time will be slightly increased due to reading from file instead of directly from RestoreArgs. Note also that this option is unsafe when restoring on a different topology than the checkpoint was saved with.\n",
      "  warnings.warn(\n"
     ]
    },
    {
     "name": "stdout",
     "output_type": "stream",
     "text": [
      "loaded model ../models/net1d_jaxKAN_seq_2-8-12-8-1_ndi64_pde2_stage1b/best at time 3.00\n",
      "['5.00', '7.00']\n",
      "['5', '5.50', '6', '6.50']\n",
      "dt 0.0005106237746878296\n",
      " -- Dataset prepared -- \n",
      "a is from 5.00 to 7.00\n",
      "ic, bc, data and pde shapes are: (8192, 1) (402, 1) (8192, 1)\n"
     ]
    },
    {
     "name": "stderr",
     "output_type": "stream",
     "text": [
      "/users/ncerardi/venv/jaxkan/lib/python3.11/site-packages/orbax/checkpoint/_src/serialization/type_handlers.py:1175: UserWarning: Couldn't find sharding info under RestoreArgs. Populating sharding info from sharding file. Please note restoration time will be slightly increased due to reading from file instead of directly from RestoreArgs. Note also that this option is unsafe when restoring on a different topology than the checkpoint was saved with.\n",
      "  warnings.warn(\n"
     ]
    },
    {
     "name": "stdout",
     "output_type": "stream",
     "text": [
      "loaded model ../models/net1d_jaxKAN_seq_2-8-12-8-1_ndi64_pde2_stage2b/best at time 5.00\n",
      "['7.00', '9.00']\n",
      "['7', '7.50', '8', '8.50']\n",
      "dt 0.0005106237746878296\n",
      " -- Dataset prepared -- \n",
      "a is from 7.00 to 9.00\n",
      "ic, bc, data and pde shapes are: (8192, 1) (402, 1) (8192, 1)\n"
     ]
    },
    {
     "name": "stderr",
     "output_type": "stream",
     "text": [
      "/users/ncerardi/venv/jaxkan/lib/python3.11/site-packages/orbax/checkpoint/_src/serialization/type_handlers.py:1175: UserWarning: Couldn't find sharding info under RestoreArgs. Populating sharding info from sharding file. Please note restoration time will be slightly increased due to reading from file instead of directly from RestoreArgs. Note also that this option is unsafe when restoring on a different topology than the checkpoint was saved with.\n",
      "  warnings.warn(\n"
     ]
    },
    {
     "name": "stdout",
     "output_type": "stream",
     "text": [
      "loaded model ../models/net1d_jaxKAN_seq_2-8-12-8-1_ndi64_pde2_stage3b/best at time 7.00\n",
      "['9.00', '11.00']\n",
      "['9', '9.50', '10', '10.50']\n",
      "dt 0.0005106237746878296\n",
      " -- Dataset prepared -- \n",
      "a is from 9.00 to 11.00\n",
      "ic, bc, data and pde shapes are: (8192, 1) (402, 1) (8192, 1)\n"
     ]
    },
    {
     "name": "stderr",
     "output_type": "stream",
     "text": [
      "/users/ncerardi/venv/jaxkan/lib/python3.11/site-packages/orbax/checkpoint/_src/serialization/type_handlers.py:1175: UserWarning: Couldn't find sharding info under RestoreArgs. Populating sharding info from sharding file. Please note restoration time will be slightly increased due to reading from file instead of directly from RestoreArgs. Note also that this option is unsafe when restoring on a different topology than the checkpoint was saved with.\n",
      "  warnings.warn(\n"
     ]
    },
    {
     "name": "stdout",
     "output_type": "stream",
     "text": [
      "loaded model ../models/net1d_jaxKAN_seq_2-8-12-8-1_ndi64_pde2_stage4b/best at time 9.00\n",
      "['11.00', '13.00']\n",
      "['11', '11.50', '12', '12.50']\n",
      "dt 0.0005106237746878296\n",
      " -- Dataset prepared -- \n",
      "a is from 11.00 to 13.00\n",
      "ic, bc, data and pde shapes are: (8192, 1) (402, 1) (8192, 1)\n"
     ]
    },
    {
     "name": "stderr",
     "output_type": "stream",
     "text": [
      "/users/ncerardi/venv/jaxkan/lib/python3.11/site-packages/orbax/checkpoint/_src/serialization/type_handlers.py:1175: UserWarning: Couldn't find sharding info under RestoreArgs. Populating sharding info from sharding file. Please note restoration time will be slightly increased due to reading from file instead of directly from RestoreArgs. Note also that this option is unsafe when restoring on a different topology than the checkpoint was saved with.\n",
      "  warnings.warn(\n"
     ]
    },
    {
     "name": "stdout",
     "output_type": "stream",
     "text": [
      "loaded model ../models/net1d_jaxKAN_seq_2-8-12-8-1_ndi64_pde2_stage5b/best at time 11.00\n",
      "['13.00', '15.00']\n",
      "['13', '13.50', '14', '14.50']\n",
      "dt 0.0005106237746878296\n",
      " -- Dataset prepared -- \n",
      "a is from 13.00 to 15.00\n",
      "ic, bc, data and pde shapes are: (8192, 1) (402, 1) (8192, 1)\n"
     ]
    },
    {
     "name": "stderr",
     "output_type": "stream",
     "text": [
      "/users/ncerardi/venv/jaxkan/lib/python3.11/site-packages/orbax/checkpoint/_src/serialization/type_handlers.py:1175: UserWarning: Couldn't find sharding info under RestoreArgs. Populating sharding info from sharding file. Please note restoration time will be slightly increased due to reading from file instead of directly from RestoreArgs. Note also that this option is unsafe when restoring on a different topology than the checkpoint was saved with.\n",
      "  warnings.warn(\n"
     ]
    },
    {
     "name": "stdout",
     "output_type": "stream",
     "text": [
      "loaded model ../models/net1d_jaxKAN_seq_2-8-12-8-1_ndi64_pde2_stage6b/best at time 13.00\n",
      "['13.00', '15.00']\n",
      "['13', '13.50', '14', '14.50']\n",
      "dt 0.0005106237746878296\n",
      " -- Dataset prepared -- \n",
      "a is from 13.00 to 15.00\n",
      "ic, bc, data and pde shapes are: (8192, 1) (402, 1) (8192, 1)\n"
     ]
    },
    {
     "name": "stderr",
     "output_type": "stream",
     "text": [
      "/users/ncerardi/venv/jaxkan/lib/python3.11/site-packages/orbax/checkpoint/_src/serialization/type_handlers.py:1175: UserWarning: Couldn't find sharding info under RestoreArgs. Populating sharding info from sharding file. Please note restoration time will be slightly increased due to reading from file instead of directly from RestoreArgs. Note also that this option is unsafe when restoring on a different topology than the checkpoint was saved with.\n",
      "  warnings.warn(\n"
     ]
    },
    {
     "name": "stdout",
     "output_type": "stream",
     "text": [
      "(4, 8192, 3) (4, 6, 8192)\n",
      "MODEL ../models/net1d_jaxKAN_seq_2-8-12-8-1_ndi64_pde2_stage8b/\n",
      "['15.00', '17.00']\n",
      "['15', '15.50', '16', '16.50']\n",
      "dt 0.0005106237746878296\n",
      " -- Dataset prepared -- \n",
      "a is from 15.00 to 17.00\n",
      "ic, bc, data and pde shapes are: (8192, 1) (402, 1) (8192, 1)\n",
      "../models/net1d_jaxKAN_seq_2-8-12-8-1_ndi64_pde2_stage7b\n",
      "previous is ./run/net1d_jaxKAN_seq_2-8-12-8-1_ndi64_pde2_stage6b/best\n",
      "../models/net1d_jaxKAN_seq_2-8-12-8-1_ndi64_pde2_stage6b\n",
      "../models/net1d_jaxKAN_seq_2-8-12-8-1_ndi64_pde2_stage6b\n",
      "previous is ./run/net1d_jaxKAN_seq_2-8-12-8-1_ndi64_pde2_stage5b/best\n",
      "../models/net1d_jaxKAN_seq_2-8-12-8-1_ndi64_pde2_stage5b\n",
      "../models/net1d_jaxKAN_seq_2-8-12-8-1_ndi64_pde2_stage5b\n",
      "previous is ./run/net1d_jaxKAN_seq_2-8-12-8-1_ndi64_pde2_stage4b/best\n",
      "../models/net1d_jaxKAN_seq_2-8-12-8-1_ndi64_pde2_stage4b\n",
      "../models/net1d_jaxKAN_seq_2-8-12-8-1_ndi64_pde2_stage4b\n",
      "previous is ./run/net1d_jaxKAN_seq_2-8-12-8-1_ndi64_pde2_stage3b/best\n",
      "../models/net1d_jaxKAN_seq_2-8-12-8-1_ndi64_pde2_stage3b\n",
      "../models/net1d_jaxKAN_seq_2-8-12-8-1_ndi64_pde2_stage3b\n",
      "previous is ./run/net1d_jaxKAN_seq_2-8-12-8-1_ndi64_pde2_stage2b/best\n",
      "../models/net1d_jaxKAN_seq_2-8-12-8-1_ndi64_pde2_stage2b\n",
      "../models/net1d_jaxKAN_seq_2-8-12-8-1_ndi64_pde2_stage2b\n",
      "previous is ./run/net1d_jaxKAN_seq_2-8-12-8-1_ndi64_pde2_stage1b/best\n",
      "../models/net1d_jaxKAN_seq_2-8-12-8-1_ndi64_pde2_stage1b\n",
      "../models/net1d_jaxKAN_seq_2-8-12-8-1_ndi64_pde2_stage1b\n",
      "Parent models: ['../models/net1d_jaxKAN_seq_2-8-12-8-1_ndi64_pde2_stage7b', '../models/net1d_jaxKAN_seq_2-8-12-8-1_ndi64_pde2_stage6b', '../models/net1d_jaxKAN_seq_2-8-12-8-1_ndi64_pde2_stage5b', '../models/net1d_jaxKAN_seq_2-8-12-8-1_ndi64_pde2_stage4b', '../models/net1d_jaxKAN_seq_2-8-12-8-1_ndi64_pde2_stage3b', '../models/net1d_jaxKAN_seq_2-8-12-8-1_ndi64_pde2_stage2b', '../models/net1d_jaxKAN_seq_2-8-12-8-1_ndi64_pde2_stage1b']\n",
      "['0.90', '3.00']\n",
      "['0.9', '1', '1.50', '2', '2.50']\n",
      "dt 0.0005106237746878296\n",
      " -- Dataset prepared -- \n",
      "a is from 0.90 to 3.00\n",
      "ic, bc, data and pde shapes are: (8192, 1) (422, 1) (8192, 1)\n",
      "['3.00', '5.00']\n",
      "['3', '3.50', '4', '4.50']\n",
      "dt 0.0005106237746878296\n",
      " -- Dataset prepared -- \n",
      "a is from 3.00 to 5.00\n",
      "ic, bc, data and pde shapes are: (8192, 1) (402, 1) (8192, 1)\n"
     ]
    },
    {
     "name": "stderr",
     "output_type": "stream",
     "text": [
      "/users/ncerardi/venv/jaxkan/lib/python3.11/site-packages/orbax/checkpoint/_src/serialization/type_handlers.py:1175: UserWarning: Couldn't find sharding info under RestoreArgs. Populating sharding info from sharding file. Please note restoration time will be slightly increased due to reading from file instead of directly from RestoreArgs. Note also that this option is unsafe when restoring on a different topology than the checkpoint was saved with.\n",
      "  warnings.warn(\n"
     ]
    },
    {
     "name": "stdout",
     "output_type": "stream",
     "text": [
      "loaded model ../models/net1d_jaxKAN_seq_2-8-12-8-1_ndi64_pde2_stage1b/best at time 3.00\n",
      "['5.00', '7.00']\n",
      "['5', '5.50', '6', '6.50']\n",
      "dt 0.0005106237746878296\n",
      " -- Dataset prepared -- \n",
      "a is from 5.00 to 7.00\n",
      "ic, bc, data and pde shapes are: (8192, 1) (402, 1) (8192, 1)\n"
     ]
    },
    {
     "name": "stderr",
     "output_type": "stream",
     "text": [
      "/users/ncerardi/venv/jaxkan/lib/python3.11/site-packages/orbax/checkpoint/_src/serialization/type_handlers.py:1175: UserWarning: Couldn't find sharding info under RestoreArgs. Populating sharding info from sharding file. Please note restoration time will be slightly increased due to reading from file instead of directly from RestoreArgs. Note also that this option is unsafe when restoring on a different topology than the checkpoint was saved with.\n",
      "  warnings.warn(\n"
     ]
    },
    {
     "name": "stdout",
     "output_type": "stream",
     "text": [
      "loaded model ../models/net1d_jaxKAN_seq_2-8-12-8-1_ndi64_pde2_stage2b/best at time 5.00\n",
      "['7.00', '9.00']\n",
      "['7', '7.50', '8', '8.50']\n",
      "dt 0.0005106237746878296\n",
      " -- Dataset prepared -- \n",
      "a is from 7.00 to 9.00\n",
      "ic, bc, data and pde shapes are: (8192, 1) (402, 1) (8192, 1)\n"
     ]
    },
    {
     "name": "stderr",
     "output_type": "stream",
     "text": [
      "/users/ncerardi/venv/jaxkan/lib/python3.11/site-packages/orbax/checkpoint/_src/serialization/type_handlers.py:1175: UserWarning: Couldn't find sharding info under RestoreArgs. Populating sharding info from sharding file. Please note restoration time will be slightly increased due to reading from file instead of directly from RestoreArgs. Note also that this option is unsafe when restoring on a different topology than the checkpoint was saved with.\n",
      "  warnings.warn(\n"
     ]
    },
    {
     "name": "stdout",
     "output_type": "stream",
     "text": [
      "loaded model ../models/net1d_jaxKAN_seq_2-8-12-8-1_ndi64_pde2_stage3b/best at time 7.00\n",
      "['9.00', '11.00']\n",
      "['9', '9.50', '10', '10.50']\n",
      "dt 0.0005106237746878296\n",
      " -- Dataset prepared -- \n",
      "a is from 9.00 to 11.00\n",
      "ic, bc, data and pde shapes are: (8192, 1) (402, 1) (8192, 1)\n"
     ]
    },
    {
     "name": "stderr",
     "output_type": "stream",
     "text": [
      "/users/ncerardi/venv/jaxkan/lib/python3.11/site-packages/orbax/checkpoint/_src/serialization/type_handlers.py:1175: UserWarning: Couldn't find sharding info under RestoreArgs. Populating sharding info from sharding file. Please note restoration time will be slightly increased due to reading from file instead of directly from RestoreArgs. Note also that this option is unsafe when restoring on a different topology than the checkpoint was saved with.\n",
      "  warnings.warn(\n"
     ]
    },
    {
     "name": "stdout",
     "output_type": "stream",
     "text": [
      "loaded model ../models/net1d_jaxKAN_seq_2-8-12-8-1_ndi64_pde2_stage4b/best at time 9.00\n",
      "['11.00', '13.00']\n",
      "['11', '11.50', '12', '12.50']\n",
      "dt 0.0005106237746878296\n",
      " -- Dataset prepared -- \n",
      "a is from 11.00 to 13.00\n",
      "ic, bc, data and pde shapes are: (8192, 1) (402, 1) (8192, 1)\n"
     ]
    },
    {
     "name": "stderr",
     "output_type": "stream",
     "text": [
      "/users/ncerardi/venv/jaxkan/lib/python3.11/site-packages/orbax/checkpoint/_src/serialization/type_handlers.py:1175: UserWarning: Couldn't find sharding info under RestoreArgs. Populating sharding info from sharding file. Please note restoration time will be slightly increased due to reading from file instead of directly from RestoreArgs. Note also that this option is unsafe when restoring on a different topology than the checkpoint was saved with.\n",
      "  warnings.warn(\n"
     ]
    },
    {
     "name": "stdout",
     "output_type": "stream",
     "text": [
      "loaded model ../models/net1d_jaxKAN_seq_2-8-12-8-1_ndi64_pde2_stage5b/best at time 11.00\n",
      "['13.00', '15.00']\n",
      "['13', '13.50', '14', '14.50']\n",
      "dt 0.0005106237746878296\n",
      " -- Dataset prepared -- \n",
      "a is from 13.00 to 15.00\n",
      "ic, bc, data and pde shapes are: (8192, 1) (402, 1) (8192, 1)\n"
     ]
    },
    {
     "name": "stderr",
     "output_type": "stream",
     "text": [
      "/users/ncerardi/venv/jaxkan/lib/python3.11/site-packages/orbax/checkpoint/_src/serialization/type_handlers.py:1175: UserWarning: Couldn't find sharding info under RestoreArgs. Populating sharding info from sharding file. Please note restoration time will be slightly increased due to reading from file instead of directly from RestoreArgs. Note also that this option is unsafe when restoring on a different topology than the checkpoint was saved with.\n",
      "  warnings.warn(\n"
     ]
    },
    {
     "name": "stdout",
     "output_type": "stream",
     "text": [
      "loaded model ../models/net1d_jaxKAN_seq_2-8-12-8-1_ndi64_pde2_stage6b/best at time 13.00\n",
      "['15.00', '17.00']\n",
      "['15', '15.50', '16', '16.50']\n",
      "dt 0.0005106237746878296\n",
      " -- Dataset prepared -- \n",
      "a is from 15.00 to 17.00\n",
      "ic, bc, data and pde shapes are: (8192, 1) (402, 1) (8192, 1)\n"
     ]
    },
    {
     "name": "stderr",
     "output_type": "stream",
     "text": [
      "/users/ncerardi/venv/jaxkan/lib/python3.11/site-packages/orbax/checkpoint/_src/serialization/type_handlers.py:1175: UserWarning: Couldn't find sharding info under RestoreArgs. Populating sharding info from sharding file. Please note restoration time will be slightly increased due to reading from file instead of directly from RestoreArgs. Note also that this option is unsafe when restoring on a different topology than the checkpoint was saved with.\n",
      "  warnings.warn(\n"
     ]
    },
    {
     "name": "stdout",
     "output_type": "stream",
     "text": [
      "loaded model ../models/net1d_jaxKAN_seq_2-8-12-8-1_ndi64_pde2_stage7b/best at time 15.00\n",
      "['15.00', '17.00']\n",
      "['15', '15.50', '16', '16.50']\n",
      "dt 0.0005106237746878296\n",
      " -- Dataset prepared -- \n",
      "a is from 15.00 to 17.00\n",
      "ic, bc, data and pde shapes are: (8192, 1) (402, 1) (8192, 1)\n"
     ]
    },
    {
     "name": "stderr",
     "output_type": "stream",
     "text": [
      "/users/ncerardi/venv/jaxkan/lib/python3.11/site-packages/orbax/checkpoint/_src/serialization/type_handlers.py:1175: UserWarning: Couldn't find sharding info under RestoreArgs. Populating sharding info from sharding file. Please note restoration time will be slightly increased due to reading from file instead of directly from RestoreArgs. Note also that this option is unsafe when restoring on a different topology than the checkpoint was saved with.\n",
      "  warnings.warn(\n"
     ]
    },
    {
     "name": "stdout",
     "output_type": "stream",
     "text": [
      "(4, 8192, 3) (4, 6, 8192)\n",
      "MODEL ../models/net1d_jaxKAN_seq_2-8-12-8-1_ndi64_pde2_stage9b/\n",
      "['17.00', '19.00']\n",
      "['17', '17.50', '18', '18.50']\n",
      "dt 0.0005106237746878296\n",
      " -- Dataset prepared -- \n",
      "a is from 17.00 to 19.00\n",
      "ic, bc, data and pde shapes are: (8192, 1) (402, 1) (8192, 1)\n",
      "../models/net1d_jaxKAN_seq_2-8-12-8-1_ndi64_pde2_stage8b\n",
      "previous is ./run/net1d_jaxKAN_seq_2-8-12-8-1_ndi64_pde2_stage7b/best\n",
      "../models/net1d_jaxKAN_seq_2-8-12-8-1_ndi64_pde2_stage7b\n",
      "../models/net1d_jaxKAN_seq_2-8-12-8-1_ndi64_pde2_stage7b\n",
      "previous is ./run/net1d_jaxKAN_seq_2-8-12-8-1_ndi64_pde2_stage6b/best\n",
      "../models/net1d_jaxKAN_seq_2-8-12-8-1_ndi64_pde2_stage6b\n",
      "../models/net1d_jaxKAN_seq_2-8-12-8-1_ndi64_pde2_stage6b\n",
      "previous is ./run/net1d_jaxKAN_seq_2-8-12-8-1_ndi64_pde2_stage5b/best\n",
      "../models/net1d_jaxKAN_seq_2-8-12-8-1_ndi64_pde2_stage5b\n",
      "../models/net1d_jaxKAN_seq_2-8-12-8-1_ndi64_pde2_stage5b\n",
      "previous is ./run/net1d_jaxKAN_seq_2-8-12-8-1_ndi64_pde2_stage4b/best\n",
      "../models/net1d_jaxKAN_seq_2-8-12-8-1_ndi64_pde2_stage4b\n",
      "../models/net1d_jaxKAN_seq_2-8-12-8-1_ndi64_pde2_stage4b\n",
      "previous is ./run/net1d_jaxKAN_seq_2-8-12-8-1_ndi64_pde2_stage3b/best\n",
      "../models/net1d_jaxKAN_seq_2-8-12-8-1_ndi64_pde2_stage3b\n",
      "../models/net1d_jaxKAN_seq_2-8-12-8-1_ndi64_pde2_stage3b\n",
      "previous is ./run/net1d_jaxKAN_seq_2-8-12-8-1_ndi64_pde2_stage2b/best\n",
      "../models/net1d_jaxKAN_seq_2-8-12-8-1_ndi64_pde2_stage2b\n",
      "../models/net1d_jaxKAN_seq_2-8-12-8-1_ndi64_pde2_stage2b\n",
      "previous is ./run/net1d_jaxKAN_seq_2-8-12-8-1_ndi64_pde2_stage1b/best\n",
      "../models/net1d_jaxKAN_seq_2-8-12-8-1_ndi64_pde2_stage1b\n",
      "../models/net1d_jaxKAN_seq_2-8-12-8-1_ndi64_pde2_stage1b\n",
      "Parent models: ['../models/net1d_jaxKAN_seq_2-8-12-8-1_ndi64_pde2_stage8b', '../models/net1d_jaxKAN_seq_2-8-12-8-1_ndi64_pde2_stage7b', '../models/net1d_jaxKAN_seq_2-8-12-8-1_ndi64_pde2_stage6b', '../models/net1d_jaxKAN_seq_2-8-12-8-1_ndi64_pde2_stage5b', '../models/net1d_jaxKAN_seq_2-8-12-8-1_ndi64_pde2_stage4b', '../models/net1d_jaxKAN_seq_2-8-12-8-1_ndi64_pde2_stage3b', '../models/net1d_jaxKAN_seq_2-8-12-8-1_ndi64_pde2_stage2b', '../models/net1d_jaxKAN_seq_2-8-12-8-1_ndi64_pde2_stage1b']\n",
      "['0.90', '3.00']\n",
      "['0.9', '1', '1.50', '2', '2.50']\n",
      "dt 0.0005106237746878296\n",
      " -- Dataset prepared -- \n",
      "a is from 0.90 to 3.00\n",
      "ic, bc, data and pde shapes are: (8192, 1) (422, 1) (8192, 1)\n",
      "['3.00', '5.00']\n",
      "['3', '3.50', '4', '4.50']\n",
      "dt 0.0005106237746878296\n",
      " -- Dataset prepared -- \n",
      "a is from 3.00 to 5.00\n",
      "ic, bc, data and pde shapes are: (8192, 1) (402, 1) (8192, 1)\n"
     ]
    },
    {
     "name": "stderr",
     "output_type": "stream",
     "text": [
      "/users/ncerardi/venv/jaxkan/lib/python3.11/site-packages/orbax/checkpoint/_src/serialization/type_handlers.py:1175: UserWarning: Couldn't find sharding info under RestoreArgs. Populating sharding info from sharding file. Please note restoration time will be slightly increased due to reading from file instead of directly from RestoreArgs. Note also that this option is unsafe when restoring on a different topology than the checkpoint was saved with.\n",
      "  warnings.warn(\n"
     ]
    },
    {
     "name": "stdout",
     "output_type": "stream",
     "text": [
      "loaded model ../models/net1d_jaxKAN_seq_2-8-12-8-1_ndi64_pde2_stage1b/best at time 3.00\n",
      "['5.00', '7.00']\n",
      "['5', '5.50', '6', '6.50']\n",
      "dt 0.0005106237746878296\n",
      " -- Dataset prepared -- \n",
      "a is from 5.00 to 7.00\n",
      "ic, bc, data and pde shapes are: (8192, 1) (402, 1) (8192, 1)\n"
     ]
    },
    {
     "name": "stderr",
     "output_type": "stream",
     "text": [
      "/users/ncerardi/venv/jaxkan/lib/python3.11/site-packages/orbax/checkpoint/_src/serialization/type_handlers.py:1175: UserWarning: Couldn't find sharding info under RestoreArgs. Populating sharding info from sharding file. Please note restoration time will be slightly increased due to reading from file instead of directly from RestoreArgs. Note also that this option is unsafe when restoring on a different topology than the checkpoint was saved with.\n",
      "  warnings.warn(\n"
     ]
    },
    {
     "name": "stdout",
     "output_type": "stream",
     "text": [
      "loaded model ../models/net1d_jaxKAN_seq_2-8-12-8-1_ndi64_pde2_stage2b/best at time 5.00\n",
      "['7.00', '9.00']\n",
      "['7', '7.50', '8', '8.50']\n",
      "dt 0.0005106237746878296\n",
      " -- Dataset prepared -- \n",
      "a is from 7.00 to 9.00\n",
      "ic, bc, data and pde shapes are: (8192, 1) (402, 1) (8192, 1)\n"
     ]
    },
    {
     "name": "stderr",
     "output_type": "stream",
     "text": [
      "/users/ncerardi/venv/jaxkan/lib/python3.11/site-packages/orbax/checkpoint/_src/serialization/type_handlers.py:1175: UserWarning: Couldn't find sharding info under RestoreArgs. Populating sharding info from sharding file. Please note restoration time will be slightly increased due to reading from file instead of directly from RestoreArgs. Note also that this option is unsafe when restoring on a different topology than the checkpoint was saved with.\n",
      "  warnings.warn(\n"
     ]
    },
    {
     "name": "stdout",
     "output_type": "stream",
     "text": [
      "loaded model ../models/net1d_jaxKAN_seq_2-8-12-8-1_ndi64_pde2_stage3b/best at time 7.00\n",
      "['9.00', '11.00']\n",
      "['9', '9.50', '10', '10.50']\n",
      "dt 0.0005106237746878296\n",
      " -- Dataset prepared -- \n",
      "a is from 9.00 to 11.00\n",
      "ic, bc, data and pde shapes are: (8192, 1) (402, 1) (8192, 1)\n"
     ]
    },
    {
     "name": "stderr",
     "output_type": "stream",
     "text": [
      "/users/ncerardi/venv/jaxkan/lib/python3.11/site-packages/orbax/checkpoint/_src/serialization/type_handlers.py:1175: UserWarning: Couldn't find sharding info under RestoreArgs. Populating sharding info from sharding file. Please note restoration time will be slightly increased due to reading from file instead of directly from RestoreArgs. Note also that this option is unsafe when restoring on a different topology than the checkpoint was saved with.\n",
      "  warnings.warn(\n"
     ]
    },
    {
     "name": "stdout",
     "output_type": "stream",
     "text": [
      "loaded model ../models/net1d_jaxKAN_seq_2-8-12-8-1_ndi64_pde2_stage4b/best at time 9.00\n",
      "['11.00', '13.00']\n",
      "['11', '11.50', '12', '12.50']\n",
      "dt 0.0005106237746878296\n",
      " -- Dataset prepared -- \n",
      "a is from 11.00 to 13.00\n",
      "ic, bc, data and pde shapes are: (8192, 1) (402, 1) (8192, 1)\n"
     ]
    },
    {
     "name": "stderr",
     "output_type": "stream",
     "text": [
      "/users/ncerardi/venv/jaxkan/lib/python3.11/site-packages/orbax/checkpoint/_src/serialization/type_handlers.py:1175: UserWarning: Couldn't find sharding info under RestoreArgs. Populating sharding info from sharding file. Please note restoration time will be slightly increased due to reading from file instead of directly from RestoreArgs. Note also that this option is unsafe when restoring on a different topology than the checkpoint was saved with.\n",
      "  warnings.warn(\n"
     ]
    },
    {
     "name": "stdout",
     "output_type": "stream",
     "text": [
      "loaded model ../models/net1d_jaxKAN_seq_2-8-12-8-1_ndi64_pde2_stage5b/best at time 11.00\n",
      "['13.00', '15.00']\n",
      "['13', '13.50', '14', '14.50']\n",
      "dt 0.0005106237746878296\n",
      " -- Dataset prepared -- \n",
      "a is from 13.00 to 15.00\n",
      "ic, bc, data and pde shapes are: (8192, 1) (402, 1) (8192, 1)\n"
     ]
    },
    {
     "name": "stderr",
     "output_type": "stream",
     "text": [
      "/users/ncerardi/venv/jaxkan/lib/python3.11/site-packages/orbax/checkpoint/_src/serialization/type_handlers.py:1175: UserWarning: Couldn't find sharding info under RestoreArgs. Populating sharding info from sharding file. Please note restoration time will be slightly increased due to reading from file instead of directly from RestoreArgs. Note also that this option is unsafe when restoring on a different topology than the checkpoint was saved with.\n",
      "  warnings.warn(\n"
     ]
    },
    {
     "name": "stdout",
     "output_type": "stream",
     "text": [
      "loaded model ../models/net1d_jaxKAN_seq_2-8-12-8-1_ndi64_pde2_stage6b/best at time 13.00\n",
      "['15.00', '17.00']\n",
      "['15', '15.50', '16', '16.50']\n",
      "dt 0.0005106237746878296\n",
      " -- Dataset prepared -- \n",
      "a is from 15.00 to 17.00\n",
      "ic, bc, data and pde shapes are: (8192, 1) (402, 1) (8192, 1)\n"
     ]
    },
    {
     "name": "stderr",
     "output_type": "stream",
     "text": [
      "/users/ncerardi/venv/jaxkan/lib/python3.11/site-packages/orbax/checkpoint/_src/serialization/type_handlers.py:1175: UserWarning: Couldn't find sharding info under RestoreArgs. Populating sharding info from sharding file. Please note restoration time will be slightly increased due to reading from file instead of directly from RestoreArgs. Note also that this option is unsafe when restoring on a different topology than the checkpoint was saved with.\n",
      "  warnings.warn(\n"
     ]
    },
    {
     "name": "stdout",
     "output_type": "stream",
     "text": [
      "loaded model ../models/net1d_jaxKAN_seq_2-8-12-8-1_ndi64_pde2_stage7b/best at time 15.00\n",
      "['17.00', '19.00']\n",
      "['17', '17.50', '18', '18.50']\n",
      "dt 0.0005106237746878296\n",
      " -- Dataset prepared -- \n",
      "a is from 17.00 to 19.00\n",
      "ic, bc, data and pde shapes are: (8192, 1) (402, 1) (8192, 1)\n"
     ]
    },
    {
     "name": "stderr",
     "output_type": "stream",
     "text": [
      "/users/ncerardi/venv/jaxkan/lib/python3.11/site-packages/orbax/checkpoint/_src/serialization/type_handlers.py:1175: UserWarning: Couldn't find sharding info under RestoreArgs. Populating sharding info from sharding file. Please note restoration time will be slightly increased due to reading from file instead of directly from RestoreArgs. Note also that this option is unsafe when restoring on a different topology than the checkpoint was saved with.\n",
      "  warnings.warn(\n"
     ]
    },
    {
     "name": "stdout",
     "output_type": "stream",
     "text": [
      "loaded model ../models/net1d_jaxKAN_seq_2-8-12-8-1_ndi64_pde2_stage8b/best at time 17.00\n",
      "['17.00', '19.00']\n",
      "['17', '17.50', '18', '18.50']\n",
      "dt 0.0005106237746878296\n",
      " -- Dataset prepared -- \n",
      "a is from 17.00 to 19.00\n",
      "ic, bc, data and pde shapes are: (8192, 1) (402, 1) (8192, 1)\n"
     ]
    },
    {
     "name": "stderr",
     "output_type": "stream",
     "text": [
      "/users/ncerardi/venv/jaxkan/lib/python3.11/site-packages/orbax/checkpoint/_src/serialization/type_handlers.py:1175: UserWarning: Couldn't find sharding info under RestoreArgs. Populating sharding info from sharding file. Please note restoration time will be slightly increased due to reading from file instead of directly from RestoreArgs. Note also that this option is unsafe when restoring on a different topology than the checkpoint was saved with.\n",
      "  warnings.warn(\n"
     ]
    },
    {
     "name": "stdout",
     "output_type": "stream",
     "text": [
      "(4, 8192, 3) (4, 6, 8192)\n",
      "MODEL ../models/net1d_jaxKAN_seq_2-8-12-8-1_ndi64_pde2_stage10b/\n",
      "['19.00', '21.00']\n",
      "['19', '19.50', '20', '20.50']\n",
      "dt 0.0005106237746878296\n",
      " -- Dataset prepared -- \n",
      "a is from 19.00 to 21.00\n",
      "ic, bc, data and pde shapes are: (8192, 1) (402, 1) (8192, 1)\n",
      "../models/net1d_jaxKAN_seq_2-8-12-8-1_ndi64_pde2_stage9b\n",
      "previous is ./run/net1d_jaxKAN_seq_2-8-12-8-1_ndi64_pde2_stage8b/best\n",
      "../models/net1d_jaxKAN_seq_2-8-12-8-1_ndi64_pde2_stage8b\n",
      "../models/net1d_jaxKAN_seq_2-8-12-8-1_ndi64_pde2_stage8b\n",
      "previous is ./run/net1d_jaxKAN_seq_2-8-12-8-1_ndi64_pde2_stage7b/best\n",
      "../models/net1d_jaxKAN_seq_2-8-12-8-1_ndi64_pde2_stage7b\n",
      "../models/net1d_jaxKAN_seq_2-8-12-8-1_ndi64_pde2_stage7b\n",
      "previous is ./run/net1d_jaxKAN_seq_2-8-12-8-1_ndi64_pde2_stage6b/best\n",
      "../models/net1d_jaxKAN_seq_2-8-12-8-1_ndi64_pde2_stage6b\n",
      "../models/net1d_jaxKAN_seq_2-8-12-8-1_ndi64_pde2_stage6b\n",
      "previous is ./run/net1d_jaxKAN_seq_2-8-12-8-1_ndi64_pde2_stage5b/best\n",
      "../models/net1d_jaxKAN_seq_2-8-12-8-1_ndi64_pde2_stage5b\n",
      "../models/net1d_jaxKAN_seq_2-8-12-8-1_ndi64_pde2_stage5b\n",
      "previous is ./run/net1d_jaxKAN_seq_2-8-12-8-1_ndi64_pde2_stage4b/best\n",
      "../models/net1d_jaxKAN_seq_2-8-12-8-1_ndi64_pde2_stage4b\n",
      "../models/net1d_jaxKAN_seq_2-8-12-8-1_ndi64_pde2_stage4b\n",
      "previous is ./run/net1d_jaxKAN_seq_2-8-12-8-1_ndi64_pde2_stage3b/best\n",
      "../models/net1d_jaxKAN_seq_2-8-12-8-1_ndi64_pde2_stage3b\n",
      "../models/net1d_jaxKAN_seq_2-8-12-8-1_ndi64_pde2_stage3b\n",
      "previous is ./run/net1d_jaxKAN_seq_2-8-12-8-1_ndi64_pde2_stage2b/best\n",
      "../models/net1d_jaxKAN_seq_2-8-12-8-1_ndi64_pde2_stage2b\n",
      "../models/net1d_jaxKAN_seq_2-8-12-8-1_ndi64_pde2_stage2b\n",
      "previous is ./run/net1d_jaxKAN_seq_2-8-12-8-1_ndi64_pde2_stage1b/best\n",
      "../models/net1d_jaxKAN_seq_2-8-12-8-1_ndi64_pde2_stage1b\n",
      "../models/net1d_jaxKAN_seq_2-8-12-8-1_ndi64_pde2_stage1b\n",
      "Parent models: ['../models/net1d_jaxKAN_seq_2-8-12-8-1_ndi64_pde2_stage9b', '../models/net1d_jaxKAN_seq_2-8-12-8-1_ndi64_pde2_stage8b', '../models/net1d_jaxKAN_seq_2-8-12-8-1_ndi64_pde2_stage7b', '../models/net1d_jaxKAN_seq_2-8-12-8-1_ndi64_pde2_stage6b', '../models/net1d_jaxKAN_seq_2-8-12-8-1_ndi64_pde2_stage5b', '../models/net1d_jaxKAN_seq_2-8-12-8-1_ndi64_pde2_stage4b', '../models/net1d_jaxKAN_seq_2-8-12-8-1_ndi64_pde2_stage3b', '../models/net1d_jaxKAN_seq_2-8-12-8-1_ndi64_pde2_stage2b', '../models/net1d_jaxKAN_seq_2-8-12-8-1_ndi64_pde2_stage1b']\n",
      "['0.90', '3.00']\n",
      "['0.9', '1', '1.50', '2', '2.50']\n",
      "dt 0.0005106237746878296\n",
      " -- Dataset prepared -- \n",
      "a is from 0.90 to 3.00\n",
      "ic, bc, data and pde shapes are: (8192, 1) (422, 1) (8192, 1)\n",
      "['3.00', '5.00']\n",
      "['3', '3.50', '4', '4.50']\n",
      "dt 0.0005106237746878296\n",
      " -- Dataset prepared -- \n",
      "a is from 3.00 to 5.00\n",
      "ic, bc, data and pde shapes are: (8192, 1) (402, 1) (8192, 1)\n"
     ]
    },
    {
     "name": "stderr",
     "output_type": "stream",
     "text": [
      "/users/ncerardi/venv/jaxkan/lib/python3.11/site-packages/orbax/checkpoint/_src/serialization/type_handlers.py:1175: UserWarning: Couldn't find sharding info under RestoreArgs. Populating sharding info from sharding file. Please note restoration time will be slightly increased due to reading from file instead of directly from RestoreArgs. Note also that this option is unsafe when restoring on a different topology than the checkpoint was saved with.\n",
      "  warnings.warn(\n"
     ]
    },
    {
     "name": "stdout",
     "output_type": "stream",
     "text": [
      "loaded model ../models/net1d_jaxKAN_seq_2-8-12-8-1_ndi64_pde2_stage1b/best at time 3.00\n",
      "['5.00', '7.00']\n",
      "['5', '5.50', '6', '6.50']\n",
      "dt 0.0005106237746878296\n",
      " -- Dataset prepared -- \n",
      "a is from 5.00 to 7.00\n",
      "ic, bc, data and pde shapes are: (8192, 1) (402, 1) (8192, 1)\n"
     ]
    },
    {
     "name": "stderr",
     "output_type": "stream",
     "text": [
      "/users/ncerardi/venv/jaxkan/lib/python3.11/site-packages/orbax/checkpoint/_src/serialization/type_handlers.py:1175: UserWarning: Couldn't find sharding info under RestoreArgs. Populating sharding info from sharding file. Please note restoration time will be slightly increased due to reading from file instead of directly from RestoreArgs. Note also that this option is unsafe when restoring on a different topology than the checkpoint was saved with.\n",
      "  warnings.warn(\n"
     ]
    },
    {
     "name": "stdout",
     "output_type": "stream",
     "text": [
      "loaded model ../models/net1d_jaxKAN_seq_2-8-12-8-1_ndi64_pde2_stage2b/best at time 5.00\n",
      "['7.00', '9.00']\n",
      "['7', '7.50', '8', '8.50']\n",
      "dt 0.0005106237746878296\n",
      " -- Dataset prepared -- \n",
      "a is from 7.00 to 9.00\n",
      "ic, bc, data and pde shapes are: (8192, 1) (402, 1) (8192, 1)\n"
     ]
    },
    {
     "name": "stderr",
     "output_type": "stream",
     "text": [
      "/users/ncerardi/venv/jaxkan/lib/python3.11/site-packages/orbax/checkpoint/_src/serialization/type_handlers.py:1175: UserWarning: Couldn't find sharding info under RestoreArgs. Populating sharding info from sharding file. Please note restoration time will be slightly increased due to reading from file instead of directly from RestoreArgs. Note also that this option is unsafe when restoring on a different topology than the checkpoint was saved with.\n",
      "  warnings.warn(\n"
     ]
    },
    {
     "name": "stdout",
     "output_type": "stream",
     "text": [
      "loaded model ../models/net1d_jaxKAN_seq_2-8-12-8-1_ndi64_pde2_stage3b/best at time 7.00\n",
      "['9.00', '11.00']\n",
      "['9', '9.50', '10', '10.50']\n",
      "dt 0.0005106237746878296\n",
      " -- Dataset prepared -- \n",
      "a is from 9.00 to 11.00\n",
      "ic, bc, data and pde shapes are: (8192, 1) (402, 1) (8192, 1)\n"
     ]
    },
    {
     "name": "stderr",
     "output_type": "stream",
     "text": [
      "/users/ncerardi/venv/jaxkan/lib/python3.11/site-packages/orbax/checkpoint/_src/serialization/type_handlers.py:1175: UserWarning: Couldn't find sharding info under RestoreArgs. Populating sharding info from sharding file. Please note restoration time will be slightly increased due to reading from file instead of directly from RestoreArgs. Note also that this option is unsafe when restoring on a different topology than the checkpoint was saved with.\n",
      "  warnings.warn(\n"
     ]
    },
    {
     "name": "stdout",
     "output_type": "stream",
     "text": [
      "loaded model ../models/net1d_jaxKAN_seq_2-8-12-8-1_ndi64_pde2_stage4b/best at time 9.00\n",
      "['11.00', '13.00']\n",
      "['11', '11.50', '12', '12.50']\n",
      "dt 0.0005106237746878296\n",
      " -- Dataset prepared -- \n",
      "a is from 11.00 to 13.00\n",
      "ic, bc, data and pde shapes are: (8192, 1) (402, 1) (8192, 1)\n"
     ]
    },
    {
     "name": "stderr",
     "output_type": "stream",
     "text": [
      "/users/ncerardi/venv/jaxkan/lib/python3.11/site-packages/orbax/checkpoint/_src/serialization/type_handlers.py:1175: UserWarning: Couldn't find sharding info under RestoreArgs. Populating sharding info from sharding file. Please note restoration time will be slightly increased due to reading from file instead of directly from RestoreArgs. Note also that this option is unsafe when restoring on a different topology than the checkpoint was saved with.\n",
      "  warnings.warn(\n"
     ]
    },
    {
     "name": "stdout",
     "output_type": "stream",
     "text": [
      "loaded model ../models/net1d_jaxKAN_seq_2-8-12-8-1_ndi64_pde2_stage5b/best at time 11.00\n",
      "['13.00', '15.00']\n",
      "['13', '13.50', '14', '14.50']\n",
      "dt 0.0005106237746878296\n",
      " -- Dataset prepared -- \n",
      "a is from 13.00 to 15.00\n",
      "ic, bc, data and pde shapes are: (8192, 1) (402, 1) (8192, 1)\n"
     ]
    },
    {
     "name": "stderr",
     "output_type": "stream",
     "text": [
      "/users/ncerardi/venv/jaxkan/lib/python3.11/site-packages/orbax/checkpoint/_src/serialization/type_handlers.py:1175: UserWarning: Couldn't find sharding info under RestoreArgs. Populating sharding info from sharding file. Please note restoration time will be slightly increased due to reading from file instead of directly from RestoreArgs. Note also that this option is unsafe when restoring on a different topology than the checkpoint was saved with.\n",
      "  warnings.warn(\n"
     ]
    },
    {
     "name": "stdout",
     "output_type": "stream",
     "text": [
      "loaded model ../models/net1d_jaxKAN_seq_2-8-12-8-1_ndi64_pde2_stage6b/best at time 13.00\n",
      "['15.00', '17.00']\n",
      "['15', '15.50', '16', '16.50']\n",
      "dt 0.0005106237746878296\n",
      " -- Dataset prepared -- \n",
      "a is from 15.00 to 17.00\n",
      "ic, bc, data and pde shapes are: (8192, 1) (402, 1) (8192, 1)\n"
     ]
    },
    {
     "name": "stderr",
     "output_type": "stream",
     "text": [
      "/users/ncerardi/venv/jaxkan/lib/python3.11/site-packages/orbax/checkpoint/_src/serialization/type_handlers.py:1175: UserWarning: Couldn't find sharding info under RestoreArgs. Populating sharding info from sharding file. Please note restoration time will be slightly increased due to reading from file instead of directly from RestoreArgs. Note also that this option is unsafe when restoring on a different topology than the checkpoint was saved with.\n",
      "  warnings.warn(\n"
     ]
    },
    {
     "name": "stdout",
     "output_type": "stream",
     "text": [
      "loaded model ../models/net1d_jaxKAN_seq_2-8-12-8-1_ndi64_pde2_stage7b/best at time 15.00\n",
      "['17.00', '19.00']\n",
      "['17', '17.50', '18', '18.50']\n",
      "dt 0.0005106237746878296\n",
      " -- Dataset prepared -- \n",
      "a is from 17.00 to 19.00\n",
      "ic, bc, data and pde shapes are: (8192, 1) (402, 1) (8192, 1)\n"
     ]
    },
    {
     "name": "stderr",
     "output_type": "stream",
     "text": [
      "/users/ncerardi/venv/jaxkan/lib/python3.11/site-packages/orbax/checkpoint/_src/serialization/type_handlers.py:1175: UserWarning: Couldn't find sharding info under RestoreArgs. Populating sharding info from sharding file. Please note restoration time will be slightly increased due to reading from file instead of directly from RestoreArgs. Note also that this option is unsafe when restoring on a different topology than the checkpoint was saved with.\n",
      "  warnings.warn(\n"
     ]
    },
    {
     "name": "stdout",
     "output_type": "stream",
     "text": [
      "loaded model ../models/net1d_jaxKAN_seq_2-8-12-8-1_ndi64_pde2_stage8b/best at time 17.00\n",
      "['19.00', '21.00']\n",
      "['19', '19.50', '20', '20.50']\n",
      "dt 0.0005106237746878296\n",
      " -- Dataset prepared -- \n",
      "a is from 19.00 to 21.00\n",
      "ic, bc, data and pde shapes are: (8192, 1) (402, 1) (8192, 1)\n"
     ]
    },
    {
     "name": "stderr",
     "output_type": "stream",
     "text": [
      "/users/ncerardi/venv/jaxkan/lib/python3.11/site-packages/orbax/checkpoint/_src/serialization/type_handlers.py:1175: UserWarning: Couldn't find sharding info under RestoreArgs. Populating sharding info from sharding file. Please note restoration time will be slightly increased due to reading from file instead of directly from RestoreArgs. Note also that this option is unsafe when restoring on a different topology than the checkpoint was saved with.\n",
      "  warnings.warn(\n"
     ]
    },
    {
     "name": "stdout",
     "output_type": "stream",
     "text": [
      "loaded model ../models/net1d_jaxKAN_seq_2-8-12-8-1_ndi64_pde2_stage9b/best at time 19.00\n",
      "['19.00', '21.00']\n",
      "['19', '19.50', '20', '20.50']\n",
      "dt 0.0005106237746878296\n",
      " -- Dataset prepared -- \n",
      "a is from 19.00 to 21.00\n",
      "ic, bc, data and pde shapes are: (8192, 1) (402, 1) (8192, 1)\n"
     ]
    },
    {
     "name": "stderr",
     "output_type": "stream",
     "text": [
      "/users/ncerardi/venv/jaxkan/lib/python3.11/site-packages/orbax/checkpoint/_src/serialization/type_handlers.py:1175: UserWarning: Couldn't find sharding info under RestoreArgs. Populating sharding info from sharding file. Please note restoration time will be slightly increased due to reading from file instead of directly from RestoreArgs. Note also that this option is unsafe when restoring on a different topology than the checkpoint was saved with.\n",
      "  warnings.warn(\n"
     ]
    },
    {
     "name": "stdout",
     "output_type": "stream",
     "text": [
      "(4, 8192, 3) (4, 6, 8192)\n",
      "MODEL ../models/net1d_jaxKAN_seq_2-8-12-8-1_ndi64_pde2_stage11b/\n",
      "['21.00', '23.00']\n",
      "['21', '21.50', '22', '22.50']\n",
      "dt 0.0005106237746878296\n",
      " -- Dataset prepared -- \n",
      "a is from 21.00 to 23.00\n",
      "ic, bc, data and pde shapes are: (8192, 1) (402, 1) (8192, 1)\n",
      "../models/net1d_jaxKAN_seq_2-8-12-8-1_ndi64_pde2_stage10b\n",
      "previous is ./run/net1d_jaxKAN_seq_2-8-12-8-1_ndi64_pde2_stage9b/best\n",
      "../models/net1d_jaxKAN_seq_2-8-12-8-1_ndi64_pde2_stage9b\n",
      "../models/net1d_jaxKAN_seq_2-8-12-8-1_ndi64_pde2_stage9b\n",
      "previous is ./run/net1d_jaxKAN_seq_2-8-12-8-1_ndi64_pde2_stage8b/best\n",
      "../models/net1d_jaxKAN_seq_2-8-12-8-1_ndi64_pde2_stage8b\n",
      "../models/net1d_jaxKAN_seq_2-8-12-8-1_ndi64_pde2_stage8b\n",
      "previous is ./run/net1d_jaxKAN_seq_2-8-12-8-1_ndi64_pde2_stage7b/best\n",
      "../models/net1d_jaxKAN_seq_2-8-12-8-1_ndi64_pde2_stage7b\n",
      "../models/net1d_jaxKAN_seq_2-8-12-8-1_ndi64_pde2_stage7b\n",
      "previous is ./run/net1d_jaxKAN_seq_2-8-12-8-1_ndi64_pde2_stage6b/best\n",
      "../models/net1d_jaxKAN_seq_2-8-12-8-1_ndi64_pde2_stage6b\n",
      "../models/net1d_jaxKAN_seq_2-8-12-8-1_ndi64_pde2_stage6b\n",
      "previous is ./run/net1d_jaxKAN_seq_2-8-12-8-1_ndi64_pde2_stage5b/best\n",
      "../models/net1d_jaxKAN_seq_2-8-12-8-1_ndi64_pde2_stage5b\n",
      "../models/net1d_jaxKAN_seq_2-8-12-8-1_ndi64_pde2_stage5b\n",
      "previous is ./run/net1d_jaxKAN_seq_2-8-12-8-1_ndi64_pde2_stage4b/best\n",
      "../models/net1d_jaxKAN_seq_2-8-12-8-1_ndi64_pde2_stage4b\n",
      "../models/net1d_jaxKAN_seq_2-8-12-8-1_ndi64_pde2_stage4b\n",
      "previous is ./run/net1d_jaxKAN_seq_2-8-12-8-1_ndi64_pde2_stage3b/best\n",
      "../models/net1d_jaxKAN_seq_2-8-12-8-1_ndi64_pde2_stage3b\n",
      "../models/net1d_jaxKAN_seq_2-8-12-8-1_ndi64_pde2_stage3b\n",
      "previous is ./run/net1d_jaxKAN_seq_2-8-12-8-1_ndi64_pde2_stage2b/best\n",
      "../models/net1d_jaxKAN_seq_2-8-12-8-1_ndi64_pde2_stage2b\n",
      "../models/net1d_jaxKAN_seq_2-8-12-8-1_ndi64_pde2_stage2b\n",
      "previous is ./run/net1d_jaxKAN_seq_2-8-12-8-1_ndi64_pde2_stage1b/best\n",
      "../models/net1d_jaxKAN_seq_2-8-12-8-1_ndi64_pde2_stage1b\n",
      "../models/net1d_jaxKAN_seq_2-8-12-8-1_ndi64_pde2_stage1b\n",
      "Parent models: ['../models/net1d_jaxKAN_seq_2-8-12-8-1_ndi64_pde2_stage10b', '../models/net1d_jaxKAN_seq_2-8-12-8-1_ndi64_pde2_stage9b', '../models/net1d_jaxKAN_seq_2-8-12-8-1_ndi64_pde2_stage8b', '../models/net1d_jaxKAN_seq_2-8-12-8-1_ndi64_pde2_stage7b', '../models/net1d_jaxKAN_seq_2-8-12-8-1_ndi64_pde2_stage6b', '../models/net1d_jaxKAN_seq_2-8-12-8-1_ndi64_pde2_stage5b', '../models/net1d_jaxKAN_seq_2-8-12-8-1_ndi64_pde2_stage4b', '../models/net1d_jaxKAN_seq_2-8-12-8-1_ndi64_pde2_stage3b', '../models/net1d_jaxKAN_seq_2-8-12-8-1_ndi64_pde2_stage2b', '../models/net1d_jaxKAN_seq_2-8-12-8-1_ndi64_pde2_stage1b']\n",
      "['0.90', '3.00']\n",
      "['0.9', '1', '1.50', '2', '2.50']\n",
      "dt 0.0005106237746878296\n",
      " -- Dataset prepared -- \n",
      "a is from 0.90 to 3.00\n",
      "ic, bc, data and pde shapes are: (8192, 1) (422, 1) (8192, 1)\n",
      "['3.00', '5.00']\n",
      "['3', '3.50', '4', '4.50']\n",
      "dt 0.0005106237746878296\n",
      " -- Dataset prepared -- \n",
      "a is from 3.00 to 5.00\n",
      "ic, bc, data and pde shapes are: (8192, 1) (402, 1) (8192, 1)\n"
     ]
    },
    {
     "name": "stderr",
     "output_type": "stream",
     "text": [
      "/users/ncerardi/venv/jaxkan/lib/python3.11/site-packages/orbax/checkpoint/_src/serialization/type_handlers.py:1175: UserWarning: Couldn't find sharding info under RestoreArgs. Populating sharding info from sharding file. Please note restoration time will be slightly increased due to reading from file instead of directly from RestoreArgs. Note also that this option is unsafe when restoring on a different topology than the checkpoint was saved with.\n",
      "  warnings.warn(\n"
     ]
    },
    {
     "name": "stdout",
     "output_type": "stream",
     "text": [
      "loaded model ../models/net1d_jaxKAN_seq_2-8-12-8-1_ndi64_pde2_stage1b/best at time 3.00\n",
      "['5.00', '7.00']\n",
      "['5', '5.50', '6', '6.50']\n",
      "dt 0.0005106237746878296\n",
      " -- Dataset prepared -- \n",
      "a is from 5.00 to 7.00\n",
      "ic, bc, data and pde shapes are: (8192, 1) (402, 1) (8192, 1)\n"
     ]
    },
    {
     "name": "stderr",
     "output_type": "stream",
     "text": [
      "/users/ncerardi/venv/jaxkan/lib/python3.11/site-packages/orbax/checkpoint/_src/serialization/type_handlers.py:1175: UserWarning: Couldn't find sharding info under RestoreArgs. Populating sharding info from sharding file. Please note restoration time will be slightly increased due to reading from file instead of directly from RestoreArgs. Note also that this option is unsafe when restoring on a different topology than the checkpoint was saved with.\n",
      "  warnings.warn(\n"
     ]
    },
    {
     "name": "stdout",
     "output_type": "stream",
     "text": [
      "loaded model ../models/net1d_jaxKAN_seq_2-8-12-8-1_ndi64_pde2_stage2b/best at time 5.00\n",
      "['7.00', '9.00']\n",
      "['7', '7.50', '8', '8.50']\n",
      "dt 0.0005106237746878296\n",
      " -- Dataset prepared -- \n",
      "a is from 7.00 to 9.00\n",
      "ic, bc, data and pde shapes are: (8192, 1) (402, 1) (8192, 1)\n"
     ]
    },
    {
     "name": "stderr",
     "output_type": "stream",
     "text": [
      "/users/ncerardi/venv/jaxkan/lib/python3.11/site-packages/orbax/checkpoint/_src/serialization/type_handlers.py:1175: UserWarning: Couldn't find sharding info under RestoreArgs. Populating sharding info from sharding file. Please note restoration time will be slightly increased due to reading from file instead of directly from RestoreArgs. Note also that this option is unsafe when restoring on a different topology than the checkpoint was saved with.\n",
      "  warnings.warn(\n"
     ]
    },
    {
     "name": "stdout",
     "output_type": "stream",
     "text": [
      "loaded model ../models/net1d_jaxKAN_seq_2-8-12-8-1_ndi64_pde2_stage3b/best at time 7.00\n",
      "['9.00', '11.00']\n",
      "['9', '9.50', '10', '10.50']\n",
      "dt 0.0005106237746878296\n",
      " -- Dataset prepared -- \n",
      "a is from 9.00 to 11.00\n",
      "ic, bc, data and pde shapes are: (8192, 1) (402, 1) (8192, 1)\n"
     ]
    },
    {
     "name": "stderr",
     "output_type": "stream",
     "text": [
      "/users/ncerardi/venv/jaxkan/lib/python3.11/site-packages/orbax/checkpoint/_src/serialization/type_handlers.py:1175: UserWarning: Couldn't find sharding info under RestoreArgs. Populating sharding info from sharding file. Please note restoration time will be slightly increased due to reading from file instead of directly from RestoreArgs. Note also that this option is unsafe when restoring on a different topology than the checkpoint was saved with.\n",
      "  warnings.warn(\n"
     ]
    },
    {
     "name": "stdout",
     "output_type": "stream",
     "text": [
      "loaded model ../models/net1d_jaxKAN_seq_2-8-12-8-1_ndi64_pde2_stage4b/best at time 9.00\n",
      "['11.00', '13.00']\n",
      "['11', '11.50', '12', '12.50']\n",
      "dt 0.0005106237746878296\n",
      " -- Dataset prepared -- \n",
      "a is from 11.00 to 13.00\n",
      "ic, bc, data and pde shapes are: (8192, 1) (402, 1) (8192, 1)\n"
     ]
    },
    {
     "name": "stderr",
     "output_type": "stream",
     "text": [
      "/users/ncerardi/venv/jaxkan/lib/python3.11/site-packages/orbax/checkpoint/_src/serialization/type_handlers.py:1175: UserWarning: Couldn't find sharding info under RestoreArgs. Populating sharding info from sharding file. Please note restoration time will be slightly increased due to reading from file instead of directly from RestoreArgs. Note also that this option is unsafe when restoring on a different topology than the checkpoint was saved with.\n",
      "  warnings.warn(\n"
     ]
    },
    {
     "name": "stdout",
     "output_type": "stream",
     "text": [
      "loaded model ../models/net1d_jaxKAN_seq_2-8-12-8-1_ndi64_pde2_stage5b/best at time 11.00\n",
      "['13.00', '15.00']\n",
      "['13', '13.50', '14', '14.50']\n",
      "dt 0.0005106237746878296\n",
      " -- Dataset prepared -- \n",
      "a is from 13.00 to 15.00\n",
      "ic, bc, data and pde shapes are: (8192, 1) (402, 1) (8192, 1)\n"
     ]
    },
    {
     "name": "stderr",
     "output_type": "stream",
     "text": [
      "/users/ncerardi/venv/jaxkan/lib/python3.11/site-packages/orbax/checkpoint/_src/serialization/type_handlers.py:1175: UserWarning: Couldn't find sharding info under RestoreArgs. Populating sharding info from sharding file. Please note restoration time will be slightly increased due to reading from file instead of directly from RestoreArgs. Note also that this option is unsafe when restoring on a different topology than the checkpoint was saved with.\n",
      "  warnings.warn(\n"
     ]
    },
    {
     "name": "stdout",
     "output_type": "stream",
     "text": [
      "loaded model ../models/net1d_jaxKAN_seq_2-8-12-8-1_ndi64_pde2_stage6b/best at time 13.00\n",
      "['15.00', '17.00']\n",
      "['15', '15.50', '16', '16.50']\n",
      "dt 0.0005106237746878296\n",
      " -- Dataset prepared -- \n",
      "a is from 15.00 to 17.00\n",
      "ic, bc, data and pde shapes are: (8192, 1) (402, 1) (8192, 1)\n"
     ]
    },
    {
     "name": "stderr",
     "output_type": "stream",
     "text": [
      "/users/ncerardi/venv/jaxkan/lib/python3.11/site-packages/orbax/checkpoint/_src/serialization/type_handlers.py:1175: UserWarning: Couldn't find sharding info under RestoreArgs. Populating sharding info from sharding file. Please note restoration time will be slightly increased due to reading from file instead of directly from RestoreArgs. Note also that this option is unsafe when restoring on a different topology than the checkpoint was saved with.\n",
      "  warnings.warn(\n"
     ]
    },
    {
     "name": "stdout",
     "output_type": "stream",
     "text": [
      "loaded model ../models/net1d_jaxKAN_seq_2-8-12-8-1_ndi64_pde2_stage7b/best at time 15.00\n",
      "['17.00', '19.00']\n",
      "['17', '17.50', '18', '18.50']\n",
      "dt 0.0005106237746878296\n",
      " -- Dataset prepared -- \n",
      "a is from 17.00 to 19.00\n",
      "ic, bc, data and pde shapes are: (8192, 1) (402, 1) (8192, 1)\n"
     ]
    },
    {
     "name": "stderr",
     "output_type": "stream",
     "text": [
      "/users/ncerardi/venv/jaxkan/lib/python3.11/site-packages/orbax/checkpoint/_src/serialization/type_handlers.py:1175: UserWarning: Couldn't find sharding info under RestoreArgs. Populating sharding info from sharding file. Please note restoration time will be slightly increased due to reading from file instead of directly from RestoreArgs. Note also that this option is unsafe when restoring on a different topology than the checkpoint was saved with.\n",
      "  warnings.warn(\n"
     ]
    },
    {
     "name": "stdout",
     "output_type": "stream",
     "text": [
      "loaded model ../models/net1d_jaxKAN_seq_2-8-12-8-1_ndi64_pde2_stage8b/best at time 17.00\n",
      "['19.00', '21.00']\n",
      "['19', '19.50', '20', '20.50']\n",
      "dt 0.0005106237746878296\n",
      " -- Dataset prepared -- \n",
      "a is from 19.00 to 21.00\n",
      "ic, bc, data and pde shapes are: (8192, 1) (402, 1) (8192, 1)\n"
     ]
    },
    {
     "name": "stderr",
     "output_type": "stream",
     "text": [
      "/users/ncerardi/venv/jaxkan/lib/python3.11/site-packages/orbax/checkpoint/_src/serialization/type_handlers.py:1175: UserWarning: Couldn't find sharding info under RestoreArgs. Populating sharding info from sharding file. Please note restoration time will be slightly increased due to reading from file instead of directly from RestoreArgs. Note also that this option is unsafe when restoring on a different topology than the checkpoint was saved with.\n",
      "  warnings.warn(\n"
     ]
    },
    {
     "name": "stdout",
     "output_type": "stream",
     "text": [
      "loaded model ../models/net1d_jaxKAN_seq_2-8-12-8-1_ndi64_pde2_stage9b/best at time 19.00\n",
      "['21.00', '23.00']\n",
      "['21', '21.50', '22', '22.50']\n",
      "dt 0.0005106237746878296\n",
      " -- Dataset prepared -- \n",
      "a is from 21.00 to 23.00\n",
      "ic, bc, data and pde shapes are: (8192, 1) (402, 1) (8192, 1)\n"
     ]
    },
    {
     "name": "stderr",
     "output_type": "stream",
     "text": [
      "/users/ncerardi/venv/jaxkan/lib/python3.11/site-packages/orbax/checkpoint/_src/serialization/type_handlers.py:1175: UserWarning: Couldn't find sharding info under RestoreArgs. Populating sharding info from sharding file. Please note restoration time will be slightly increased due to reading from file instead of directly from RestoreArgs. Note also that this option is unsafe when restoring on a different topology than the checkpoint was saved with.\n",
      "  warnings.warn(\n"
     ]
    },
    {
     "name": "stdout",
     "output_type": "stream",
     "text": [
      "loaded model ../models/net1d_jaxKAN_seq_2-8-12-8-1_ndi64_pde2_stage10b/best at time 21.00\n",
      "['21.00', '23.00']\n",
      "['21', '21.50', '22', '22.50']\n",
      "dt 0.0005106237746878296\n",
      " -- Dataset prepared -- \n",
      "a is from 21.00 to 23.00\n",
      "ic, bc, data and pde shapes are: (8192, 1) (402, 1) (8192, 1)\n"
     ]
    },
    {
     "name": "stderr",
     "output_type": "stream",
     "text": [
      "/users/ncerardi/venv/jaxkan/lib/python3.11/site-packages/orbax/checkpoint/_src/serialization/type_handlers.py:1175: UserWarning: Couldn't find sharding info under RestoreArgs. Populating sharding info from sharding file. Please note restoration time will be slightly increased due to reading from file instead of directly from RestoreArgs. Note also that this option is unsafe when restoring on a different topology than the checkpoint was saved with.\n",
      "  warnings.warn(\n"
     ]
    },
    {
     "name": "stdout",
     "output_type": "stream",
     "text": [
      "(4, 8192, 3) (4, 6, 8192)\n"
     ]
    }
   ],
   "source": [
    "all_q = []\n",
    "all_a = []\n",
    "all_dx0 = []\n",
    "all_znet = []\n",
    "all_vnet = []\n",
    "all_accnet = []\n",
    "all_ztrue = []\n",
    "all_vtrue = []\n",
    "all_acctrue = []\n",
    "\n",
    "for i, mod in enumerate(models):\n",
    "    print('MODEL', mod)\n",
    "    if i==0:\n",
    "        q, a, dx0, znet, vnet, accnet, ztrue, vtrue, acctrue = load_model_and_outputs(dnet, mod+'best', \n",
    "                                                                                      0.9, \n",
    "                                                                                      models_limits[i+1])\n",
    "    else:\n",
    "        q, a, dx0, znet, vnet, accnet, ztrue, vtrue, acctrue = load_model_and_outputs(dnet, mod+'best', \n",
    "                                                                                      models_limits[i], \n",
    "                                                                                      models_limits[i+1],\n",
    "                                                                                      aprevious = models_limits[i-1],\n",
    "                                                                                      previous_model = models[i-1]+'best')\n",
    "    all_q.append(q)\n",
    "    all_a.append(a)\n",
    "    all_dx0.append(dx0)\n",
    "    all_znet.append(znet)\n",
    "    all_vnet.append(vnet)\n",
    "    all_accnet.append(accnet)\n",
    "    all_ztrue.append(ztrue)\n",
    "    all_vtrue.append(vtrue)\n",
    "    all_acctrue.append(acctrue)"
   ]
  },
  {
   "cell_type": "code",
   "execution_count": 62,
   "id": "7df18272-f13b-4e03-894b-c3cc3f948757",
   "metadata": {},
   "outputs": [
    {
     "data": {
      "image/png": "[encoded data removed]",
      "text/plain": [
       "<Figure size 850x400 with 2 Axes>"
      ]
     },
     "metadata": {},
     "output_type": "display_data"
    }
   ],
   "source": [
    "import numpy as np\n",
    "import matplotlib.pyplot as plt\n",
    "import matplotlib.gridspec as gridspec\n",
    "from matplotlib.animation import FuncAnimation\n",
    "\n",
    "# Build frame_data list from your data arrays\n",
    "frame_data = []\n",
    "for im in range(len(models)):\n",
    "    q   = all_q[im]\n",
    "    dx0 = all_dx0[im]\n",
    "    for ia, va in enumerate(all_a[im]):\n",
    "        frame_data.append({\n",
    "            't': va,\n",
    "            'q': q,\n",
    "            'dx0': dx0,\n",
    "            'z': all_ztrue[im][ia],\n",
    "            'v': all_vtrue[im][ia],\n",
    "            'znet': all_znet[im][ia].flatten(),\n",
    "            'vnet': all_vnet[im][ia].flatten()\n",
    "        })\n",
    "\n",
    "# Create figure and axes\n",
    "fig = plt.figure(figsize=(8.5, 4))\n",
    "gs = gridspec.GridSpec(1, 2, hspace=0.25, wspace=0.35)\n",
    "ax = np.array([[fig.add_subplot(gs[0, i]) for i in range(2)]])\n",
    "for axi in ax.flat:\n",
    "    axi.set_box_aspect(1)\n",
    "\n",
    "# Suptitle text for scale factor\n",
    "scale_factor_text = fig.suptitle(\"\", fontsize=15, y=0.98)\n",
    "\n",
    "# Init function\n",
    "def init():\n",
    "    for a in ax.flat:\n",
    "        a.cla()\n",
    "    return []\n",
    "\n",
    "# Update function\n",
    "def update(frame_idx):\n",
    "    # Clear current frame\n",
    "    for a in ax.flat:\n",
    "        a.cla()\n",
    "    \n",
    "    # Set titles, labels, and limits\n",
    "    ax[0,0].text(0.03, 0.9, \"PIKAN\", transform=ax[0,0].transAxes)\n",
    "    ax[0,1].text(0.03, 0.9, \"N-Body\", transform=ax[0,1].transAxes)\n",
    "    ax[0,0].set_xlabel(\"x\")\n",
    "    ax[0,1].set_xlabel(\"x\")\n",
    "    ax[0,0].set_ylabel(\"v\")\n",
    "    ax[0,0].set_xlim([-0.5, 0.5])\n",
    "    ax[0,1].set_xlim([-0.5, 0.5])\n",
    "\n",
    "    # Get data for this frame\n",
    "    fd = frame_data[frame_idx]\n",
    "    u_x = fd['znet'] + fd['q'] + fd['dx0']\n",
    "\n",
    "    # Plot lines in black\n",
    "    ax[0,0].plot(u_x, fd['vnet'], c='black', linewidth=1.0)\n",
    "    ax[0,1].plot(fd['z'] + fd['q'], fd['v'], c='black', linewidth=1.0)\n",
    "\n",
    "    # Update central scale factor label\n",
    "    scale_factor_text.set_text(f\"Scale Factor: {fd['t']:.4f}\")\n",
    "\n",
    "    return []\n",
    "\n",
    "# Create animation\n",
    "anim = FuncAnimation(\n",
    "    fig, update, frames=len(frame_data),\n",
    "    init_func=init, blit=False, interval=200  # 200 ms per frame (slower)\n",
    ")\n",
    "\n",
    "# Save as GIF\n",
    "anim.save('../figures/pikan_and_nbody.gif', writer='pillow', fps=8)\n"
   ]
  }
 ],
 "metadata": {
  "kernelspec": {
   "display_name": "jaxkan-kernel",
   "language": "python",
   "name": "jaxkan-kernel"
  },
  "language_info": {
   "codemirror_mode": {
    "name": "ipython",
    "version": 3
   },
   "file_extension": ".py",
   "mimetype": "text/x-python",
   "name": "python",
   "nbconvert_exporter": "python",
   "pygments_lexer": "ipython3",
   "version": "3.11.5"
  }
 },
 "nbformat": 4,
 "nbformat_minor": 5
}
